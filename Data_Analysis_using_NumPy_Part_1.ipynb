{
  "cells": [
    {
      "cell_type": "markdown",
      "metadata": {
        "id": "view-in-github",
        "colab_type": "text"
      },
      "source": [
        "<a href=\"https://colab.research.google.com/github/ashrafulhossain/Api-demo/blob/main/Data_Analysis_using_NumPy_Part_1.ipynb\" target=\"_parent\"><img src=\"https://colab.research.google.com/assets/colab-badge.svg\" alt=\"Open In Colab\"/></a>"
      ]
    },
    {
      "cell_type": "markdown",
      "metadata": {
        "id": "YBqTZG8rsAmP"
      },
      "source": [
        "# NumPy Essentials (Part:1 - Arrays)\n",
        "\n",
        "Hi Guys,<br>\n",
        "Welcome to the NumPy Essentials lecture part 1.<br>\n",
        "\n",
        "As a fundamental package for scientific computing, NumPy provides the foundations of mathematical, scientific, engineering and data science programming within the Python Echo-system. NumPy’s main object is the homogeneous multidimensional array.<br>\n",
        "\n",
        "In this lecture, we will go through the range of important NumPy's concepts and built-in function that we will be frequently using in the coming sections. As usual, this notebook is a reference to the video lecture. You can always explore this notebook if you need help.  \n",
        "\n",
        "**I hope that you have already installed NumPy, let's move on a create a new notebook to explore more about NumPy.** <br>\n",
        "\n",
        "# Numpy Arrays\n",
        "### `arange()`,  `linspace()`, `zeros()`,  `ones()`, `eye()`, `rand()`, `randn()`, `randint()`\n",
        "### Methods: `reshape()`, `max()`, `min()`, `argmax()`, `argmin()`<br>\n",
        "### Attributes: `size, shape, dtype`\n",
        "### Indexing & slicing of 1-D arrays (vectors)\n",
        "###  Indexing & slicing 2-D arrays (matrices)"
      ]
    },
    {
      "cell_type": "code",
      "execution_count": null,
      "metadata": {
        "id": "sbPuIWIPsAmQ"
      },
      "outputs": [],
      "source": [
        "# Let import NumPy\n",
        "import numpy as np"
      ]
    },
    {
      "cell_type": "markdown",
      "metadata": {
        "id": "KMXZNl0PsAmR"
      },
      "source": [
        "NumPy has many built-in functions and capabilities. We will focus on some of the most important and key concepts of this powerful library.\n",
        "\n",
        "# Numpy Arrays\n",
        "\n",
        "NumPy arrays will be the main concept that we will be using in this course. These arrays essentially come in two flavors: <br>\n",
        "* **Vectors:** Vectors are strictly 1-dimensional array\n",
        "*  **Matrices:** Matrices are 2-dimensional (matrix can still have only one row or one column)."
      ]
    },
    {
      "cell_type": "markdown",
      "metadata": {
        "id": "vDVxOrahsAmR"
      },
      "source": [
        "## Creating NumPy Arrays"
      ]
    },
    {
      "cell_type": "markdown",
      "metadata": {
        "id": "r3XLX5MUsAmR"
      },
      "source": [
        "### From Python data type (e.g. List, Tuple)"
      ]
    },
    {
      "cell_type": "code",
      "execution_count": null,
      "metadata": {
        "id": "rtBEyAl1sAmR",
        "outputId": "461d2da5-0d25-4459-e281-69c777ac1b96"
      },
      "outputs": [
        {
          "data": {
            "text/plain": [
              "-1"
            ]
          },
          "execution_count": 2,
          "metadata": {},
          "output_type": "execute_result"
        }
      ],
      "source": [
        "# Lets create a Python list.\n",
        "my_list = [-1,0,1]\n",
        "my_list\n",
        "my_list[0]"
      ]
    },
    {
      "cell_type": "code",
      "execution_count": null,
      "metadata": {
        "id": "MCl_WZM3sAmS",
        "outputId": "4ad2bcfb-b93d-4451-8214-61be992afe5b"
      },
      "outputs": [
        {
          "data": {
            "text/plain": [
              "list"
            ]
          },
          "execution_count": 3,
          "metadata": {},
          "output_type": "execute_result"
        }
      ],
      "source": [
        "type(my_list)"
      ]
    },
    {
      "cell_type": "markdown",
      "metadata": {
        "id": "FgbQamKzsAmS"
      },
      "source": [
        "To create a NumPy array, from a Python data structure, we use NumPy's array function. <br>\n",
        "The NumPy's array function can be accessed by typing \"np.array\". <br>\n",
        "We need to cast our Python data structure, my_list, as a parameter to the array function.<br>"
      ]
    },
    {
      "cell_type": "code",
      "execution_count": null,
      "metadata": {
        "id": "JwHk2Qf5sAmS",
        "outputId": "0dac033f-cda6-4522-cb90-8abe5cf380a1"
      },
      "outputs": [
        {
          "data": {
            "text/plain": [
              "-1"
            ]
          },
          "execution_count": 4,
          "metadata": {},
          "output_type": "execute_result"
        }
      ],
      "source": [
        "my_array = np.array(my_list)\n",
        "my_array\n",
        "my_array[0]"
      ]
    },
    {
      "cell_type": "code",
      "execution_count": null,
      "metadata": {
        "id": "nl_3gwQEsAmS",
        "outputId": "85d143ed-2d86-4447-c584-890373fb1ddb"
      },
      "outputs": [
        {
          "data": {
            "text/plain": [
              "[[1, 2, 3], [4, 5, 6], [7, 8, 9], [4, 5, 9]]"
            ]
          },
          "execution_count": 5,
          "metadata": {},
          "output_type": "execute_result"
        }
      ],
      "source": [
        "# Lets create and cast a list of list to generate 2-D array\n",
        "my_matrix = [[1,2,3],[4,5,6],[7,8,9],[4, 5, 9]]\n",
        "my_matrix"
      ]
    },
    {
      "cell_type": "code",
      "execution_count": null,
      "metadata": {
        "id": "nSmRzUzIsAmS",
        "outputId": "260be11f-3b36-42ef-b38e-50d06b78eb72"
      },
      "outputs": [
        {
          "data": {
            "text/plain": [
              "array([[1, 2, 3],\n",
              "       [4, 5, 6],\n",
              "       [7, 8, 9],\n",
              "       [4, 5, 9]])"
            ]
          },
          "execution_count": 6,
          "metadata": {},
          "output_type": "execute_result"
        }
      ],
      "source": [
        "matrix_one = np.array(my_matrix)\n",
        "matrix_one"
      ]
    },
    {
      "cell_type": "code",
      "execution_count": null,
      "metadata": {
        "id": "O8bJ9q4WsAmT",
        "outputId": "26fa758b-7eab-4a28-fcbf-f231e4cd5b55"
      },
      "outputs": [
        {
          "data": {
            "text/plain": [
              "(array([-1,  0,  1]), numpy.ndarray)"
            ]
          },
          "execution_count": 7,
          "metadata": {},
          "output_type": "execute_result"
        }
      ],
      "source": [
        "# We can use Tuple instead of list as well.\n",
        "my_tuple = (-1,0,1)\n",
        "my_array = np.array(my_tuple)\n",
        "my_array, type(my_array)"
      ]
    },
    {
      "cell_type": "markdown",
      "metadata": {
        "id": "2Q1UkyAlsAmT"
      },
      "source": [
        "### Array creation using NumPy's Built-in methods\n",
        "\n",
        "Most of the times, we use NumPy built-in methods to create arrays. These are much simpler and faster."
      ]
    },
    {
      "cell_type": "markdown",
      "metadata": {
        "id": "A_iZ6aSjsAmT"
      },
      "source": [
        "### `arange()`\n",
        "\n",
        "* arange() is very much similar to Python function range() <br>\n",
        "* Syntax: arange([start,] stop[, step,], dtype=None) <br>\n",
        "* Return evenly spaced values within a given interval. <br>\n",
        "\n",
        "*Press shift+tab for the documentation.*"
      ]
    },
    {
      "cell_type": "code",
      "execution_count": null,
      "metadata": {
        "id": "PCqelRDRsAmT",
        "outputId": "cef6c228-54de-44e7-a978-676b312ed455"
      },
      "outputs": [
        {
          "data": {
            "text/plain": [
              "array([0, 1, 2, 3, 4, 5, 6, 7, 8, 9])"
            ]
          },
          "execution_count": 8,
          "metadata": {},
          "output_type": "execute_result"
        }
      ],
      "source": [
        "np.arange(0,10) # similar to range() in Python, not including 10"
      ]
    },
    {
      "cell_type": "code",
      "execution_count": null,
      "metadata": {
        "id": "RBTEZmmFsAmT",
        "outputId": "471e5aab-b6f5-4a3b-fc53-da01ff162ba9"
      },
      "outputs": [
        {
          "data": {
            "text/plain": [
              "array([ 0,  2,  4,  6,  8, 10])"
            ]
          },
          "execution_count": 9,
          "metadata": {},
          "output_type": "execute_result"
        }
      ],
      "source": [
        "# We can give the step\n",
        "np.arange(0,11,2)"
      ]
    },
    {
      "cell_type": "code",
      "execution_count": null,
      "metadata": {
        "id": "VOKInU6msAmT",
        "outputId": "d6f68926-34a1-43ce-f2cd-947871eb8579"
      },
      "outputs": [
        {
          "data": {
            "text/plain": [
              "array([0., 2., 4., 6., 8.])"
            ]
          },
          "execution_count": 10,
          "metadata": {},
          "output_type": "execute_result"
        }
      ],
      "source": [
        "# We can give the step and dtype\n",
        "np.arange(0,10,2, dtype=float)"
      ]
    },
    {
      "cell_type": "markdown",
      "metadata": {
        "id": "EB16jDc7sAmU"
      },
      "source": [
        "### `linspace()`\n",
        "Return evenly spaced numbers over a specified interval.<br>\n",
        "*Press shift+tab for the documentation.*"
      ]
    },
    {
      "cell_type": "code",
      "execution_count": null,
      "metadata": {
        "id": "xjg8EXoVsAmU",
        "outputId": "7e974fdf-0dc9-4e53-9472-d8555ac79756"
      },
      "outputs": [
        {
          "data": {
            "text/plain": [
              "array([ 1.,  2.,  3.,  4.,  5.,  6.,  7.,  8.,  9., 10., 11., 12., 13.,\n",
              "       14., 15.])"
            ]
          },
          "execution_count": 11,
          "metadata": {},
          "output_type": "execute_result"
        }
      ],
      "source": [
        "# start from 1 & end at 15 with 15 evenly spaced points b/w 1 to 15.\n",
        "np.linspace(1, 15, 15)"
      ]
    },
    {
      "cell_type": "code",
      "execution_count": null,
      "metadata": {
        "id": "CKoa4s3usAmU",
        "outputId": "9154ffcd-0178-4f96-a28d-dcf10377a128"
      },
      "outputs": [
        {
          "data": {
            "text/plain": [
              "(array([ 9.        ,  9.31578947,  9.63157895,  9.94736842, 10.26315789,\n",
              "        10.57894737, 10.89473684, 11.21052632, 11.52631579, 11.84210526,\n",
              "        12.15789474, 12.47368421, 12.78947368, 13.10526316, 13.42105263,\n",
              "        13.73684211, 14.05263158, 14.36842105, 14.68421053, 15.        ]),\n",
              " 0.3157894736842105)"
            ]
          },
          "execution_count": 12,
          "metadata": {},
          "output_type": "execute_result"
        }
      ],
      "source": [
        "# Lets find the step size with \"retstep\" which returns the array and the step size\n",
        "my_linspace = np.linspace(9, 15, 20, retstep=True)\n",
        "my_linspace\n",
        "# my_linspace[1] to get the stepsize only"
      ]
    },
    {
      "cell_type": "code",
      "execution_count": null,
      "metadata": {
        "id": "h8BebHaSsAmU",
        "outputId": "e66b61c2-ca58-427e-9dd6-6e45c7315dbe"
      },
      "outputs": [
        {
          "data": {
            "text/plain": [
              "array([ 0.        ,  0.51724138,  1.03448276,  1.55172414,  2.06896552,\n",
              "        2.5862069 ,  3.10344828,  3.62068966,  4.13793103,  4.65517241,\n",
              "        5.17241379,  5.68965517,  6.20689655,  6.72413793,  7.24137931,\n",
              "        7.75862069,  8.27586207,  8.79310345,  9.31034483,  9.82758621,\n",
              "       10.34482759, 10.86206897, 11.37931034, 11.89655172, 12.4137931 ,\n",
              "       12.93103448, 13.44827586, 13.96551724, 14.48275862, 15.        ])"
            ]
          },
          "execution_count": 13,
          "metadata": {},
          "output_type": "execute_result"
        }
      ],
      "source": [
        "np.linspace(0,15,30) # 1-D array"
      ]
    },
    {
      "cell_type": "markdown",
      "metadata": {
        "id": "6ZDGPkSSsAmU"
      },
      "source": [
        "## Don't Confuse!\n",
        "  * <b>arange() takes 3rd argument as step size.<b><br>\n",
        "  * <b>linspace() take 3rd argument as no of point we want.<b>"
      ]
    },
    {
      "cell_type": "markdown",
      "metadata": {
        "id": "drT_eG6zsAmU"
      },
      "source": [
        "### `zeros()`\n",
        "\n",
        "* We want to create an array with **all zeros**<br>\n",
        "\n",
        "*Press shift+tab for the documentation.*"
      ]
    },
    {
      "cell_type": "code",
      "execution_count": null,
      "metadata": {
        "id": "kyo8QOG3sAmU",
        "outputId": "4ecd2b27-43c6-4633-89eb-9cca49e2bbc6"
      },
      "outputs": [
        {
          "data": {
            "text/plain": [
              "array([0., 0., 0., 0., 0., 0., 0., 0., 0., 0., 0., 0., 0., 0., 0.])"
            ]
          },
          "execution_count": 14,
          "metadata": {},
          "output_type": "execute_result"
        }
      ],
      "source": [
        "np.zeros(15) # 1-D with 3 elements"
      ]
    },
    {
      "cell_type": "code",
      "execution_count": null,
      "metadata": {
        "id": "2CngdR4dsAmU",
        "outputId": "47dfea5d-fdf5-4ff5-82ca-83af43477c31"
      },
      "outputs": [
        {
          "data": {
            "text/plain": [
              "array([[0., 0., 0., 0., 0., 0.],\n",
              "       [0., 0., 0., 0., 0., 0.],\n",
              "       [0., 0., 0., 0., 0., 0.],\n",
              "       [0., 0., 0., 0., 0., 0.]])"
            ]
          },
          "execution_count": 15,
          "metadata": {},
          "output_type": "execute_result"
        }
      ],
      "source": [
        "np.zeros((4,6)) #(no_row, no_col) passing a tuple"
      ]
    },
    {
      "cell_type": "markdown",
      "metadata": {
        "id": "aatVfeTtsAmV"
      },
      "source": [
        "### `ones()`\n",
        "\n",
        "* We want to create an array with **all ones**<br>\n",
        "\n",
        "*Press shift+tab for the documentation.*"
      ]
    },
    {
      "cell_type": "code",
      "execution_count": null,
      "metadata": {
        "id": "ni2AyPu-sAmV",
        "outputId": "eb009cf2-338c-4d63-8226-d9e75452cfce"
      },
      "outputs": [
        {
          "data": {
            "text/plain": [
              "array([1., 1., 1.])"
            ]
          },
          "execution_count": 16,
          "metadata": {},
          "output_type": "execute_result"
        }
      ],
      "source": [
        "np.ones(3)"
      ]
    },
    {
      "cell_type": "code",
      "execution_count": null,
      "metadata": {
        "id": "ZfKZU4AEsAmV",
        "outputId": "0033a6e8-3c85-431e-8486-52bcc35bb8d3"
      },
      "outputs": [
        {
          "data": {
            "text/plain": [
              "array([[1., 1., 1., 1., 1., 1.],\n",
              "       [1., 1., 1., 1., 1., 1.],\n",
              "       [1., 1., 1., 1., 1., 1.],\n",
              "       [1., 1., 1., 1., 1., 1.]])"
            ]
          },
          "execution_count": 17,
          "metadata": {},
          "output_type": "execute_result"
        }
      ],
      "source": [
        "np.ones((4,6)) #(no_row, no_col) passing a tuple"
      ]
    },
    {
      "cell_type": "markdown",
      "metadata": {
        "id": "JAbub-18sAmV"
      },
      "source": [
        "## `eye()`\n",
        "Creates an identity matrix must be a square matrix, which is useful in several linear algebra problems.\n",
        "* Return a 2-D array with **ones on the diagonal and zeros elsewhere.**\n",
        "\n",
        "*Press shift+tab for the documentation.*"
      ]
    },
    {
      "cell_type": "code",
      "execution_count": null,
      "metadata": {
        "id": "faElglnesAmV",
        "outputId": "105b8211-67ff-4414-c876-1583f2230a04"
      },
      "outputs": [
        {
          "data": {
            "text/plain": [
              "array([[1., 0., 0., 0., 0.],\n",
              "       [0., 1., 0., 0., 0.],\n",
              "       [0., 0., 1., 0., 0.],\n",
              "       [0., 0., 0., 1., 0.],\n",
              "       [0., 0., 0., 0., 1.]])"
            ]
          },
          "execution_count": 18,
          "metadata": {},
          "output_type": "execute_result"
        }
      ],
      "source": [
        "np.eye(5)"
      ]
    },
    {
      "cell_type": "markdown",
      "metadata": {
        "id": "0XTZlLzKsAmV"
      },
      "source": [
        "## Random\n",
        "\n",
        "We can also create arrays with random numbers using Numpy's built-in functions in Random module.<br>\n",
        "*np.random. and then press tab for the options with random*"
      ]
    },
    {
      "cell_type": "markdown",
      "metadata": {
        "id": "bKL8iiDksAmV"
      },
      "source": [
        "### `rand()`\n",
        "Create an array of the given shape and populate it with\n",
        "random samples from a uniform distribution\n",
        "over ``[0, 1)``."
      ]
    },
    {
      "cell_type": "code",
      "execution_count": null,
      "metadata": {
        "id": "9xcQYatmsAmW",
        "outputId": "8b1c6590-98d6-438a-b9ee-fac9fd29cfbb"
      },
      "outputs": [
        {
          "data": {
            "text/plain": [
              "array([0.18739172, 0.54336328, 0.15725321])"
            ]
          },
          "execution_count": 19,
          "metadata": {},
          "output_type": "execute_result"
        }
      ],
      "source": [
        "np.random.rand(3) # 1-D array with three elements"
      ]
    },
    {
      "cell_type": "code",
      "execution_count": null,
      "metadata": {
        "id": "Csmq30dvsAmW",
        "outputId": "be3e409e-90ab-4d3c-c059-f4a15fb49dbc"
      },
      "outputs": [
        {
          "data": {
            "text/plain": [
              "array([[0.76245856, 0.43955472],\n",
              "       [0.08847867, 0.69786791],\n",
              "       [0.16811267, 0.46983751]])"
            ]
          },
          "execution_count": 20,
          "metadata": {},
          "output_type": "execute_result"
        }
      ],
      "source": [
        "np.random.rand(3,2) # row, col, note we are not passing a tuple here, each dimension as a separate argument"
      ]
    },
    {
      "cell_type": "markdown",
      "metadata": {
        "id": "-j_ETQd6sAmW"
      },
      "source": [
        "### `randn()`\n",
        "\n",
        "Return a sample (or samples) from the \"standard normal\" or a \"Gaussian\" distribution. Unlike rand which is uniform.<br>\n",
        "*Press shift+tab for the documentation.*"
      ]
    },
    {
      "cell_type": "code",
      "execution_count": null,
      "metadata": {
        "id": "xu3_0Fr6sAmW",
        "outputId": "cf2f74d6-4b75-4d26-fac3-089bcb931613"
      },
      "outputs": [
        {
          "data": {
            "text/plain": [
              "array([ 0.62204576, -0.25249562,  1.9056508 ,  1.09223943,  0.58694599])"
            ]
          },
          "execution_count": 21,
          "metadata": {},
          "output_type": "execute_result"
        }
      ],
      "source": [
        "np.random.randn(5)"
      ]
    },
    {
      "cell_type": "code",
      "execution_count": null,
      "metadata": {
        "id": "YcS2wHFRsAmW",
        "outputId": "7d7ab279-7a8b-4dea-dda8-41bda3dff4e8"
      },
      "outputs": [
        {
          "data": {
            "text/plain": [
              "array([[ 2.47200466, -0.69199238,  0.06292252, ...,  0.73700906,\n",
              "         0.35555545,  1.12371587],\n",
              "       [ 0.89000746,  0.6220243 ,  1.15189556, ...,  0.27388929,\n",
              "        -0.2627861 ,  0.46451712],\n",
              "       [-0.18133093, -0.60339665,  0.2406308 , ...,  0.56017784,\n",
              "        -2.18036039, -0.79074341],\n",
              "       ...,\n",
              "       [ 0.7262731 , -1.10968213, -0.97680316, ..., -0.89396425,\n",
              "         0.6297002 ,  1.10759901],\n",
              "       [ 1.04221122,  0.58961062,  0.12821911, ..., -1.7052139 ,\n",
              "         0.23963787,  0.67819244],\n",
              "       [-0.10707079, -0.01036299,  0.34802647, ..., -0.41136252,\n",
              "        -1.27694173, -0.97087329]])"
            ]
          },
          "execution_count": 22,
          "metadata": {},
          "output_type": "execute_result"
        }
      ],
      "source": [
        "np.random.randn(100,100) # no tuple, each dimension as a separate argument"
      ]
    },
    {
      "cell_type": "markdown",
      "metadata": {
        "id": "9jEb4Yo6sAmW"
      },
      "source": [
        "### `randint()`\n",
        "Return random integers from `low` (inclusive) to `high` (exclusive)."
      ]
    },
    {
      "cell_type": "code",
      "execution_count": null,
      "metadata": {
        "id": "I5-JmRKHsAmW",
        "outputId": "50825717-3e46-4068-81c7-e2b6793bda8b"
      },
      "outputs": [
        {
          "data": {
            "text/plain": [
              "51"
            ]
          },
          "execution_count": 23,
          "metadata": {},
          "output_type": "execute_result"
        }
      ],
      "source": [
        "np.random.randint(1,100) #returns one random int, 1 inclusive, 100 exclusive"
      ]
    },
    {
      "cell_type": "code",
      "execution_count": null,
      "metadata": {
        "id": "O55c6bjWsAma",
        "outputId": "2f762d26-5a48-4f7f-b706-b66b60475331"
      },
      "outputs": [
        {
          "data": {
            "text/plain": [
              "array([382, 491,  39,  19, 287,  62,  95, 422, 497, 429])"
            ]
          },
          "execution_count": 24,
          "metadata": {},
          "output_type": "execute_result"
        }
      ],
      "source": [
        "np.random.randint(1,500,10) #returns ten random int,"
      ]
    },
    {
      "cell_type": "markdown",
      "metadata": {
        "id": "V0WXzOObsAma"
      },
      "source": [
        "## Array Methods & Attributes\n",
        "Some important Methods and Attributes are important to know:<br>\n",
        "\n",
        "### Methods:\n",
        "* reshape(), max(), min(), argmax(), argmin()<br>"
      ]
    },
    {
      "cell_type": "code",
      "execution_count": null,
      "metadata": {
        "id": "1yntLuHhsAma"
      },
      "outputs": [],
      "source": [
        "# lets create 2 arrays using arange() and randint()\n",
        "array_arange = np.arange(0,16)\n",
        "array_ranint = np.random.randint(0,100,10)"
      ]
    },
    {
      "cell_type": "code",
      "execution_count": null,
      "metadata": {
        "id": "pB5wZggHsAma",
        "outputId": "dfc3b24c-d279-45c9-95a2-ac28eb20a33e"
      },
      "outputs": [
        {
          "data": {
            "text/plain": [
              "array([ 0,  1,  2,  3,  4,  5,  6,  7,  8,  9, 10, 11, 12, 13, 14, 15])"
            ]
          },
          "execution_count": 26,
          "metadata": {},
          "output_type": "execute_result"
        }
      ],
      "source": [
        "array_arange"
      ]
    },
    {
      "cell_type": "code",
      "execution_count": null,
      "metadata": {
        "id": "pYf20l0TsAma",
        "outputId": "e51d3332-6e42-4dbf-8dd9-674c45887781"
      },
      "outputs": [
        {
          "data": {
            "text/plain": [
              "array([18, 18, 71, 45, 68,  4, 23, 72, 52, 79])"
            ]
          },
          "execution_count": 27,
          "metadata": {},
          "output_type": "execute_result"
        }
      ],
      "source": [
        "array_ranint"
      ]
    },
    {
      "cell_type": "markdown",
      "metadata": {
        "id": "QmD2yNVMsAmb"
      },
      "source": [
        "#### `Reshape()`\n",
        "Returns an array containing the same data with a new shape."
      ]
    },
    {
      "cell_type": "code",
      "execution_count": null,
      "metadata": {
        "id": "mFEVx9UHsAmb",
        "outputId": "0d2c9d97-36fe-4653-ff0c-6105c1048c8f"
      },
      "outputs": [
        {
          "data": {
            "text/plain": [
              "array([[ 0,  1,  2,  3],\n",
              "       [ 4,  5,  6,  7],\n",
              "       [ 8,  9, 10, 11],\n",
              "       [12, 13, 14, 15]])"
            ]
          },
          "execution_count": 28,
          "metadata": {},
          "output_type": "execute_result"
        }
      ],
      "source": [
        "reshape_test=array_arange.reshape(4,4) # any other num will give error\n",
        "reshape_test"
      ]
    },
    {
      "cell_type": "markdown",
      "metadata": {
        "id": "_xiv0x04sAmb"
      },
      "source": [
        "#### `max()` & `min()`\n",
        "Useful methods for finding max or min values."
      ]
    },
    {
      "cell_type": "code",
      "execution_count": null,
      "metadata": {
        "id": "Md6m0bUfsAmb",
        "outputId": "9af03910-623c-4de1-f790-fd472bc4a788"
      },
      "outputs": [
        {
          "data": {
            "text/plain": [
              "array([18, 18, 71, 45, 68,  4, 23, 72, 52, 79])"
            ]
          },
          "execution_count": 29,
          "metadata": {},
          "output_type": "execute_result"
        }
      ],
      "source": [
        "array_ranint"
      ]
    },
    {
      "cell_type": "code",
      "execution_count": null,
      "metadata": {
        "id": "xSg7CLFssAmb",
        "outputId": "967310cc-a620-4b11-e87f-366bedd00fde"
      },
      "outputs": [
        {
          "data": {
            "text/plain": [
              "79"
            ]
          },
          "execution_count": 30,
          "metadata": {},
          "output_type": "execute_result"
        }
      ],
      "source": [
        "array_ranint.max()"
      ]
    },
    {
      "cell_type": "code",
      "execution_count": null,
      "metadata": {
        "id": "PZbhR-eqsAmb",
        "outputId": "b18c7f47-4c54-4b06-df74-5eda39298187"
      },
      "outputs": [
        {
          "data": {
            "text/plain": [
              "4"
            ]
          },
          "execution_count": 31,
          "metadata": {},
          "output_type": "execute_result"
        }
      ],
      "source": [
        "array_ranint.min()"
      ]
    },
    {
      "cell_type": "markdown",
      "metadata": {
        "id": "wv8vqrAysAmb"
      },
      "source": [
        "#### `argmax()` & `argmin()`\n",
        "To find the index locations of max and min values in array"
      ]
    },
    {
      "cell_type": "code",
      "execution_count": null,
      "metadata": {
        "id": "Uk555bI8sAmb",
        "outputId": "a392d90d-e798-461e-a1bd-e4968367a653"
      },
      "outputs": [
        {
          "data": {
            "text/plain": [
              "9"
            ]
          },
          "execution_count": 32,
          "metadata": {},
          "output_type": "execute_result"
        }
      ],
      "source": [
        "array_ranint.argmax() # index starts from 0"
      ]
    },
    {
      "cell_type": "code",
      "execution_count": null,
      "metadata": {
        "id": "fOMv9KUKsAmc",
        "outputId": "90b7e75f-9aa1-44d1-d3c5-9436906c44da"
      },
      "outputs": [
        {
          "data": {
            "text/plain": [
              "5"
            ]
          },
          "execution_count": 33,
          "metadata": {},
          "output_type": "execute_result"
        }
      ],
      "source": [
        "array_ranint.argmin()"
      ]
    },
    {
      "cell_type": "markdown",
      "metadata": {
        "id": "Ld_ZQhGDsAmc"
      },
      "source": [
        "### Attributes\n",
        "* `size, shape, dtype`"
      ]
    },
    {
      "cell_type": "code",
      "execution_count": null,
      "metadata": {
        "id": "nQ9wYpshsAmc",
        "outputId": "5aa93a7f-f862-4d30-b98c-375239df0443"
      },
      "outputs": [
        {
          "data": {
            "text/plain": [
              "(16,)"
            ]
          },
          "execution_count": 34,
          "metadata": {},
          "output_type": "execute_result"
        }
      ],
      "source": [
        "# Lets take vector array, array_arange\n",
        "array_arange.shape\n",
        "#reshape_test.shape"
      ]
    },
    {
      "cell_type": "code",
      "execution_count": null,
      "metadata": {
        "id": "x2FFgAgFsAmc",
        "outputId": "3d31033a-4ead-4ab3-c74a-6ccdd29b9dc7"
      },
      "outputs": [
        {
          "data": {
            "text/plain": [
              "16"
            ]
          },
          "execution_count": 35,
          "metadata": {},
          "output_type": "execute_result"
        }
      ],
      "source": [
        "# Size of the array\n",
        "array_arange.size"
      ]
    },
    {
      "cell_type": "code",
      "execution_count": null,
      "metadata": {
        "id": "ZoUDuffNsAmc",
        "outputId": "370408d8-2964-46ca-8b88-484ace68c276"
      },
      "outputs": [
        {
          "data": {
            "text/plain": [
              "dtype('int64')"
            ]
          },
          "execution_count": 36,
          "metadata": {},
          "output_type": "execute_result"
        }
      ],
      "source": [
        "# Type of the data.\n",
        "array_arange.dtype"
      ]
    },
    {
      "cell_type": "code",
      "execution_count": null,
      "metadata": {
        "id": "Equg9pPysAmd",
        "outputId": "0c3fcd05-3b6f-40fd-edf4-a37d33f1627a"
      },
      "outputs": [
        {
          "data": {
            "text/plain": [
              "array([[ 0,  1,  2,  3],\n",
              "       [ 4,  5,  6,  7],\n",
              "       [ 8,  9, 10, 11],\n",
              "       [12, 13, 14, 15]])"
            ]
          },
          "execution_count": 37,
          "metadata": {},
          "output_type": "execute_result"
        }
      ],
      "source": [
        "# Notice the two sets of brackets\n",
        "array_arange.reshape(4,4)"
      ]
    },
    {
      "cell_type": "code",
      "execution_count": null,
      "metadata": {
        "id": "XjQYimX1sAmd",
        "outputId": "111ffdcc-eee3-48d7-bd8f-bcaa147068b5"
      },
      "outputs": [
        {
          "data": {
            "text/plain": [
              "(4, 4)"
            ]
          },
          "execution_count": 38,
          "metadata": {},
          "output_type": "execute_result"
        }
      ],
      "source": [
        "array_arange.reshape(4,4).shape"
      ]
    },
    {
      "cell_type": "code",
      "execution_count": null,
      "metadata": {
        "id": "Z02MMXpYsAmd",
        "outputId": "c18aa1e2-4f96-4599-a742-42ad1e66b771"
      },
      "outputs": [
        {
          "data": {
            "text/plain": [
              "(16, 1)"
            ]
          },
          "execution_count": 39,
          "metadata": {},
          "output_type": "execute_result"
        }
      ],
      "source": [
        "array_arange.reshape(16,1).shape"
      ]
    },
    {
      "cell_type": "code",
      "execution_count": null,
      "metadata": {
        "id": "FIX5AVzTsAmd",
        "outputId": "1c19c013-c730-45fc-996b-8b2e6b63ee22"
      },
      "outputs": [
        {
          "data": {
            "text/plain": [
              "(1, 16)"
            ]
          },
          "execution_count": 40,
          "metadata": {},
          "output_type": "execute_result"
        }
      ],
      "source": [
        "array_arange.reshape(1,16).shape"
      ]
    },
    {
      "cell_type": "markdown",
      "metadata": {
        "id": "djUPmHLYsAme"
      },
      "source": [
        "### Indexing & slicing of 1-D arrays (vectors)"
      ]
    },
    {
      "cell_type": "code",
      "execution_count": null,
      "metadata": {
        "id": "WFnhP9PFsAme"
      },
      "outputs": [],
      "source": [
        "# Lets create a simple 1-D NumPy array.\n",
        "# (we can use arange() as well.)\n",
        "array_1d = np.array([-10, -2, 0, 2, 17, 106,200])"
      ]
    },
    {
      "cell_type": "code",
      "execution_count": null,
      "metadata": {
        "id": "48-SLdTesAme",
        "outputId": "f2979c09-e7d6-41c8-9720-c650563e0931"
      },
      "outputs": [
        {
          "data": {
            "text/plain": [
              "array([-10,  -2,   0,   2,  17, 106, 200])"
            ]
          },
          "execution_count": 42,
          "metadata": {},
          "output_type": "execute_result"
        }
      ],
      "source": [
        "array_1d"
      ]
    },
    {
      "cell_type": "code",
      "execution_count": null,
      "metadata": {
        "id": "ruQNk8oFsAme",
        "outputId": "ead3d87f-8abb-4a48-8a58-12a85fc90c12"
      },
      "outputs": [
        {
          "data": {
            "text/plain": [
              "-10"
            ]
          },
          "execution_count": 43,
          "metadata": {},
          "output_type": "execute_result"
        }
      ],
      "source": [
        "# Getting value at certain index\n",
        "array_1d[0]"
      ]
    },
    {
      "cell_type": "code",
      "execution_count": null,
      "metadata": {
        "id": "78YdhLiPsAme",
        "outputId": "98f80dcf-6fdf-47f9-8f84-a675e62e65e3"
      },
      "outputs": [
        {
          "data": {
            "text/plain": [
              "(array([-10,  -2,   0]), array([-10,  -2,   0,   2,  17, 106, 200]))"
            ]
          },
          "execution_count": 44,
          "metadata": {},
          "output_type": "execute_result"
        }
      ],
      "source": [
        "# Getting a range value\n",
        "array_1d[0:3], array_1d\n",
        "# array_1d is included in the out to compare and understand"
      ]
    },
    {
      "cell_type": "code",
      "execution_count": null,
      "metadata": {
        "id": "deC6MkLpsAmf",
        "outputId": "24499cba-c930-4502-f454-9fb371e18127"
      },
      "outputs": [
        {
          "data": {
            "text/plain": [
              "(106, array([-10,  -2,   0,   2,  17, 106, 200]))"
            ]
          },
          "execution_count": 45,
          "metadata": {},
          "output_type": "execute_result"
        }
      ],
      "source": [
        "# Using -ve index\n",
        "array_1d[-2], array_1d\n",
        "# array_1d is included in the out to compare and understand"
      ]
    },
    {
      "cell_type": "code",
      "execution_count": null,
      "metadata": {
        "id": "w5Yv1IUwsAmf",
        "outputId": "9ee9d751-580d-489b-e9a0-c555fa2b2bc0"
      },
      "outputs": [
        {
          "data": {
            "text/plain": [
              "(array([-2,  0,  2, 17]), array([-10,  -2,   0,   2,  17, 106, 200]))"
            ]
          },
          "execution_count": 46,
          "metadata": {},
          "output_type": "execute_result"
        }
      ],
      "source": [
        "# Using -ve index for a range\n",
        "array_1d[1:-2], array_1d # 1 inclusive and -2 exclusive in this case"
      ]
    },
    {
      "cell_type": "code",
      "execution_count": null,
      "metadata": {
        "id": "Do3-T8_xsAmf",
        "outputId": "f749deeb-84ef-4381-d591-dfbb5ef2865a"
      },
      "outputs": [
        {
          "data": {
            "text/plain": [
              "(array([-10,  -2]), array([  0,   2,  17, 106, 200]))"
            ]
          },
          "execution_count": 47,
          "metadata": {},
          "output_type": "execute_result"
        }
      ],
      "source": [
        "# Getting up-to and from certain index -- remember index starts from '0'\n",
        "# (no need to give start and stop indexes)\n",
        "array_1d[:2], array_1d[2:]"
      ]
    },
    {
      "cell_type": "code",
      "execution_count": null,
      "metadata": {
        "id": "Np7BnIdOsAmf"
      },
      "outputs": [],
      "source": [
        "# Assigning a new value to a certain index in the array\n",
        "array_1d[0] = -102"
      ]
    },
    {
      "cell_type": "code",
      "execution_count": null,
      "metadata": {
        "id": "cHZkrql4sAmg",
        "outputId": "51866458-1071-419b-ba0b-9f5532da0981"
      },
      "outputs": [
        {
          "data": {
            "text/plain": [
              "array([-102,   -2,    0,    2,   17,  106,  200])"
            ]
          },
          "execution_count": 49,
          "metadata": {},
          "output_type": "execute_result"
        }
      ],
      "source": [
        "array_1d\n",
        "# The first element is changed to -102"
      ]
    },
    {
      "cell_type": "markdown",
      "metadata": {
        "id": "bzkgb8mZsAmg"
      },
      "source": [
        "###  Indexing & slicing 2-D arrays (matrices)\n",
        "\n",
        "Lets create an array with 24 elements using arange() and convert it to 2D matrix using \"shape\".<br>\n",
        "*note, 6 x 4 = 24*"
      ]
    },
    {
      "cell_type": "code",
      "execution_count": null,
      "metadata": {
        "id": "IdBQsjF0sAmg",
        "outputId": "a800580e-0920-4a00-ff5c-26309a8ab80b"
      },
      "outputs": [
        {
          "data": {
            "text/plain": [
              "array([[ 0,  1,  2,  3],\n",
              "       [ 4,  5,  6,  7],\n",
              "       [ 8,  9, 10, 11],\n",
              "       [12, 13, 14, 15],\n",
              "       [16, 17, 18, 19],\n",
              "       [20, 21, 22, 23]])"
            ]
          },
          "execution_count": 50,
          "metadata": {},
          "output_type": "execute_result"
        }
      ],
      "source": [
        "array_2d= np.arange(24)\n",
        "array_2d.shape = (6,4) #array_2d.reshape(6,4)\n",
        "array_2d"
      ]
    },
    {
      "cell_type": "markdown",
      "metadata": {
        "id": "X0q30VPPsAmg"
      },
      "source": [
        "To access any element, the general format is: <br>\n",
        "* **`array_2d[row][col]`** <br>or<br>\n",
        "* **`array_2d[row,col]`**.\n",
        "\n",
        "We will use `[row,col]`, easier to use comma ',' for clarity."
      ]
    },
    {
      "cell_type": "code",
      "execution_count": null,
      "metadata": {
        "id": "s9Q6EqpZsAmg",
        "outputId": "703a11e9-4872-4d93-b6c3-8a47e2e3498b"
      },
      "outputs": [
        {
          "data": {
            "text/plain": [
              "array([ 8,  9, 10, 11])"
            ]
          },
          "execution_count": 51,
          "metadata": {},
          "output_type": "execute_result"
        }
      ],
      "source": [
        "# To get a complete row\n",
        "array_2d[2]"
      ]
    },
    {
      "cell_type": "code",
      "execution_count": null,
      "metadata": {
        "id": "U0FroTAIsAmh",
        "outputId": "798564f5-fd88-4f62-c0b0-a4fd1f925ae0"
      },
      "outputs": [
        {
          "data": {
            "text/plain": [
              "array([ 8,  9, 10, 11])"
            ]
          },
          "execution_count": 52,
          "metadata": {},
          "output_type": "execute_result"
        }
      ],
      "source": [
        "array_2d[-4] # -0 and 0 is same inedex"
      ]
    },
    {
      "cell_type": "code",
      "execution_count": null,
      "metadata": {
        "id": "YZWLEFy7sAmh",
        "outputId": "0a437b0e-afc1-4853-c616-3d85d612a0d3"
      },
      "outputs": [
        {
          "data": {
            "text/plain": [
              "22"
            ]
          },
          "execution_count": 53,
          "metadata": {},
          "output_type": "execute_result"
        }
      ],
      "source": [
        "# To get an individual element value at row = 5 and column = 2\n",
        "array_2d[5,2]"
      ]
    },
    {
      "cell_type": "code",
      "execution_count": null,
      "metadata": {
        "id": "1O5QCW1EsAmh",
        "outputId": "9dbc86b2-bd84-4160-87c4-30d541142fcb"
      },
      "outputs": [
        {
          "data": {
            "text/plain": [
              "22"
            ]
          },
          "execution_count": 54,
          "metadata": {},
          "output_type": "execute_result"
        }
      ],
      "source": [
        "# another way\n",
        "row = 5\n",
        "column = 2\n",
        "array_2d[row, column]"
      ]
    },
    {
      "cell_type": "code",
      "execution_count": null,
      "metadata": {
        "id": "iOv7L-HcsAmh",
        "outputId": "72bcbe8c-c159-4010-f415-5e1f0bb319e8"
      },
      "outputs": [
        {
          "data": {
            "text/plain": [
              "array([[ 0,  1,  2,  3],\n",
              "       [ 4,  5,  6,  7],\n",
              "       [ 8,  9, 10, 11],\n",
              "       [12, 13, 14, 15],\n",
              "       [16, 17, 18, 19],\n",
              "       [20, 21, 22, 23]])"
            ]
          },
          "execution_count": 55,
          "metadata": {},
          "output_type": "execute_result"
        }
      ],
      "source": [
        "# Just to make sure, using [row][col] :)\n",
        "array_2d[5][2]\n",
        "array_2d"
      ]
    },
    {
      "cell_type": "code",
      "execution_count": null,
      "metadata": {
        "id": "ntNh5-icsAmh",
        "outputId": "3b34e96b-43c7-496b-e98c-ad81365355fb"
      },
      "outputs": [
        {
          "data": {
            "text/plain": [
              "array([[0, 1],\n",
              "       [4, 5]])"
            ]
          },
          "execution_count": 56,
          "metadata": {},
          "output_type": "execute_result"
        }
      ],
      "source": [
        "# 2D array slicing\n",
        "array_2d[:2,:2] # array_2d[:2,:2].shape gives (2,2), 4 elements for top left corner\n",
        "#[row:row, column:column] [From 0 row to 1 row, From 0 column to 1 column]\n",
        "# array_2d[0:2,0:2] is same as array_2d[:2,:2]"
      ]
    },
    {
      "cell_type": "code",
      "execution_count": null,
      "metadata": {
        "id": "yawikIyXsAmh",
        "outputId": "3e5060e3-0219-42d0-be6b-2dadece101c1"
      },
      "outputs": [
        {
          "data": {
            "text/plain": [
              "array([[ 0,  1,  2,  3],\n",
              "       [ 4,  5,  6,  7],\n",
              "       [ 8,  9, 10, 11],\n",
              "       [12, 13, 14, 15],\n",
              "       [16, 17, 18, 19],\n",
              "       [20, 21, 22, 23]])"
            ]
          },
          "execution_count": 57,
          "metadata": {},
          "output_type": "execute_result"
        }
      ],
      "source": [
        "array_2d"
      ]
    },
    {
      "cell_type": "code",
      "execution_count": null,
      "metadata": {
        "id": "fx6wXuSrsAmi"
      },
      "outputs": [],
      "source": []
    },
    {
      "cell_type": "markdown",
      "metadata": {
        "id": "OTvNa90-sAmi"
      },
      "source": [
        "### Broadcasting\n",
        "\n",
        "Numpy arrays are different from normal Python lists because of their ability to broadcast. We will only cover the basics, for further details on broadcasting rules, click [here](https://docs.scipy.org/doc/numpy/user/basics.broadcasting.html) <br>\n",
        "Another good read on [broadcasting](https://jakevdp.github.io/PythonDataScienceHandbook/02.05-computation-on-arrays-broadcasting.html)!<br>\n",
        "\n",
        "**Lets start with some simple examples:**"
      ]
    },
    {
      "cell_type": "code",
      "execution_count": null,
      "metadata": {
        "id": "XDR0x00nsAmi",
        "outputId": "cc138a74-e0ff-481e-a274-68dac77f7cbe"
      },
      "outputs": [
        {
          "data": {
            "text/plain": [
              "array([0, 1, 2, 3, 4, 5, 6, 7, 8, 9])"
            ]
          },
          "execution_count": 58,
          "metadata": {},
          "output_type": "execute_result"
        }
      ],
      "source": [
        "# Lets create an array using arange()\n",
        "array_1d = np.arange(0,10)\n",
        "array_1d"
      ]
    },
    {
      "cell_type": "markdown",
      "metadata": {
        "id": "9TO25oHlsAmi"
      },
      "source": [
        "Take a slice of the array and set it equal to some number, say 500.<br>\n",
        "\n",
        "        array_1d[0:5] = 500\n",
        "this will **broadcast the value of 500 to the first 5 elements** of the array_1d"
      ]
    },
    {
      "cell_type": "code",
      "execution_count": null,
      "metadata": {
        "id": "po6cujFpsAmi",
        "outputId": "0ab4895d-3f6e-4350-e433-4b685dba70fe"
      },
      "outputs": [
        {
          "data": {
            "text/plain": [
              "array([500, 500, 500, 500, 500,   5,   6,   7,   8,   9])"
            ]
          },
          "execution_count": 59,
          "metadata": {},
          "output_type": "execute_result"
        }
      ],
      "source": [
        "array_1d[0:5] = 500\n",
        "array_1d"
      ]
    },
    {
      "cell_type": "code",
      "execution_count": null,
      "metadata": {
        "id": "EXulxfBwsAmi",
        "outputId": "56de1f2d-44a9-4301-ac1c-74e5d0f52688"
      },
      "outputs": [
        {
          "data": {
            "text/plain": [
              "array([[1., 1., 1., 1.],\n",
              "       [1., 1., 1., 1.],\n",
              "       [1., 1., 1., 1.],\n",
              "       [1., 1., 1., 1.]])"
            ]
          },
          "execution_count": 60,
          "metadata": {},
          "output_type": "execute_result"
        }
      ],
      "source": [
        "# Lets create a 2D martix with ones\n",
        "array_2d = np.ones((4,4))\n",
        "array_2d"
      ]
    },
    {
      "cell_type": "code",
      "execution_count": null,
      "metadata": {
        "id": "QoPclwassAmj",
        "outputId": "6d59dc88-655c-4a02-a652-064960241e7a"
      },
      "outputs": [
        {
          "data": {
            "text/plain": [
              "array([[300., 300., 300., 300.],\n",
              "       [  1.,   1.,   1.,   1.],\n",
              "       [  1.,   1.,   1.,   1.],\n",
              "       [  1.,   1.,   1.,   1.]])"
            ]
          },
          "execution_count": 61,
          "metadata": {},
          "output_type": "execute_result"
        }
      ],
      "source": [
        "# Lets broadcast 300 to the first row of array_2d\n",
        "array_2d[0] = 300\n",
        "array_2d"
      ]
    },
    {
      "cell_type": "code",
      "execution_count": null,
      "metadata": {
        "id": "61GXDm5fsAmj",
        "outputId": "bd290cf2-3280-41c3-ec59-01ef39647a09"
      },
      "outputs": [
        {
          "data": {
            "text/plain": [
              "array([[300., 301., 302., 303.],\n",
              "       [  1.,   2.,   3.,   4.],\n",
              "       [  1.,   2.,   3.,   4.],\n",
              "       [  1.,   2.,   3.,   4.]])"
            ]
          },
          "execution_count": 62,
          "metadata": {},
          "output_type": "execute_result"
        }
      ],
      "source": [
        "# Lets create a simple 1-D array and broadcast to array_2d\n",
        "array_2d + np.arange(0,4)  #[0,1,2,3]\n",
        "# try array_2d + np.arange(0,3), did this work? if not why?"
      ]
    },
    {
      "cell_type": "code",
      "execution_count": null,
      "metadata": {
        "id": "R_nTJSUpsAmj",
        "outputId": "6d821a7b-2e6a-4f3c-a1c4-f690fb1e807d"
      },
      "outputs": [
        {
          "data": {
            "text/plain": [
              "array([[600., 600., 600., 600.],\n",
              "       [301., 301., 301., 301.],\n",
              "       [301., 301., 301., 301.],\n",
              "       [301., 301., 301., 301.]])"
            ]
          },
          "execution_count": 63,
          "metadata": {},
          "output_type": "execute_result"
        }
      ],
      "source": [
        "array_2d + 300\n",
        "# array_2d + [300,2], did it work? if not why?"
      ]
    },
    {
      "cell_type": "code",
      "execution_count": null,
      "metadata": {
        "id": "fzYoEIQtsAmj",
        "outputId": "c51c1818-dafb-4b33-dcfb-f355610c8851"
      },
      "outputs": [
        {
          "data": {
            "text/plain": [
              "array([[300., 300., 300., 300.],\n",
              "       [  1.,   1.,   1.,   1.],\n",
              "       [  1.,   1.,   1.,   1.],\n",
              "       [  1.,   1.,   1.,   1.]])"
            ]
          },
          "execution_count": 64,
          "metadata": {},
          "output_type": "execute_result"
        }
      ],
      "source": [
        "array_2d"
      ]
    },
    {
      "cell_type": "code",
      "execution_count": null,
      "metadata": {
        "id": "aUCAEZ5AsAmj",
        "outputId": "f589a22c-8a03-44a5-bf37-7aee2941a368"
      },
      "outputs": [
        {
          "data": {
            "text/plain": [
              "array([[1., 1., 1., 1.],\n",
              "       [1., 1., 1., 1.],\n",
              "       [1., 1., 1., 1.]])"
            ]
          },
          "execution_count": 65,
          "metadata": {},
          "output_type": "execute_result"
        }
      ],
      "source": [
        "array_2d[[1, 2, 3]]"
      ]
    },
    {
      "cell_type": "code",
      "execution_count": null,
      "metadata": {
        "id": "zcrmzLSDsAmj",
        "outputId": "3aef9a9d-a7da-4b66-9e21-153b52e69ac7"
      },
      "outputs": [
        {
          "data": {
            "text/plain": [
              "array([[  1.,   1.,   1.,   1.],\n",
              "       [300., 300., 300., 300.],\n",
              "       [  1.,   1.,   1.,   1.]])"
            ]
          },
          "execution_count": 66,
          "metadata": {},
          "output_type": "execute_result"
        }
      ],
      "source": [
        "# We can use any order\n",
        "array_2d[[3,0,1]]"
      ]
    },
    {
      "cell_type": "code",
      "execution_count": null,
      "metadata": {
        "id": "u22xlllasAmj",
        "outputId": "15666a85-ccd3-4ff2-f000-a20a423f7775"
      },
      "outputs": [
        {
          "data": {
            "text/plain": [
              "array([[ 0,  1,  2,  3],\n",
              "       [ 4,  5,  6,  7],\n",
              "       [ 8,  9, 10, 11],\n",
              "       [12, 13, 14, 15],\n",
              "       [16, 17, 18, 19],\n",
              "       [20, 21, 22, 23]])"
            ]
          },
          "execution_count": 67,
          "metadata": {},
          "output_type": "execute_result"
        }
      ],
      "source": [
        "# lets try another matrix\n",
        "array_2d = np.arange(24)\n",
        "array_2d.shape = (6,4)\n",
        "array_2d"
      ]
    },
    {
      "cell_type": "code",
      "execution_count": null,
      "metadata": {
        "id": "-CwNaxo1sAmj",
        "outputId": "1d0be4f5-0b4a-4b03-aaae-561e91e57825"
      },
      "outputs": [
        {
          "data": {
            "text/plain": [
              "array([[ 8,  9, 10, 11],\n",
              "       [16, 17, 18, 19]])"
            ]
          },
          "execution_count": 68,
          "metadata": {},
          "output_type": "execute_result"
        }
      ],
      "source": [
        "# grabbing rows\n",
        "array_2d[[2,4]]"
      ]
    },
    {
      "cell_type": "code",
      "execution_count": null,
      "metadata": {
        "id": "lOSwSPdJsAmk",
        "outputId": "cfb5d0ae-741c-4ce0-ef49-57e24190d176"
      },
      "outputs": [
        {
          "data": {
            "text/plain": [
              "array([[ 3,  2],\n",
              "       [ 7,  6],\n",
              "       [11, 10],\n",
              "       [15, 14],\n",
              "       [19, 18],\n",
              "       [23, 22]])"
            ]
          },
          "execution_count": 69,
          "metadata": {},
          "output_type": "execute_result"
        }
      ],
      "source": [
        "# grabbing columns\n",
        "#array_2d[:,3:2]\n",
        "array_2d[:,[3,2]]"
      ]
    },
    {
      "cell_type": "code",
      "execution_count": null,
      "metadata": {
        "id": "PTVb_SJDsAmk",
        "outputId": "b1b02945-6f75-4241-978f-7465e1d40d67"
      },
      "outputs": [
        {
          "data": {
            "text/plain": [
              "array([ 1,  2,  3,  4,  5,  6,  7,  8,  9, 10])"
            ]
          },
          "execution_count": 70,
          "metadata": {},
          "output_type": "execute_result"
        }
      ],
      "source": [
        "# Lets create a simple array using arange()\n",
        "array_1d = np.arange(1,11)\n",
        "array_1d"
      ]
    },
    {
      "cell_type": "markdown",
      "metadata": {
        "id": "ttGCfTNtsAmk"
      },
      "source": [
        "We can apply condition such as >, <, == etc"
      ]
    },
    {
      "cell_type": "code",
      "execution_count": null,
      "metadata": {
        "id": "aAmS-0efsAmk"
      },
      "outputs": [],
      "source": [
        "array_1d > 3"
      ]
    },
    {
      "cell_type": "code",
      "execution_count": null,
      "metadata": {
        "id": "MZray3NZsAmk"
      },
      "outputs": [],
      "source": [
        "# lets create a bool_array for some condition, say array_1d > 3\n",
        "bool_array = array_1d > 3\n",
        "bool_array"
      ]
    },
    {
      "cell_type": "markdown",
      "metadata": {
        "id": "YcugO4QmsAmk"
      },
      "source": [
        "Lets create a mask to **filter out the even numbers in \"array_1d\"**"
      ]
    },
    {
      "cell_type": "code",
      "execution_count": null,
      "metadata": {
        "id": "jTUQPHyNsAmk"
      },
      "outputs": [],
      "source": [
        "array_1d % 2"
      ]
    },
    {
      "cell_type": "code",
      "execution_count": null,
      "metadata": {
        "id": "IOFWJr8AsAmk"
      },
      "outputs": [],
      "source": [
        "0 == array_1d % 2"
      ]
    },
    {
      "cell_type": "code",
      "execution_count": null,
      "metadata": {
        "id": "8946ARsmsAml"
      },
      "outputs": [],
      "source": [
        "# A number is even if, number % 2 is \"0\"\n",
        "mod_2_mask_1d = 0 == array_1d % 2\n",
        "mod_2_mask_1d"
      ]
    },
    {
      "cell_type": "code",
      "execution_count": null,
      "metadata": {
        "id": "GdWrMXdTsAml"
      },
      "outputs": [],
      "source": [
        "array_1d[mod_2_mask_1d] #array_1d[[False,  True, False,  True, False,  True, False,  True, False,True]]"
      ]
    },
    {
      "cell_type": "markdown",
      "metadata": {
        "id": "bJuNqE8psAml"
      },
      "source": [
        "## NumPy Operations\n",
        "\n",
        "Hi Guys,<br>\n",
        "Welcome to the NumPy Essentials lecture part 2.<br>\n",
        "\n",
        "Let's talk about NumPy operations in this section, such as:\n",
        "\n",
        "* <b>Arithmetic operations</b>\n",
        "* <b>Universal Functions (ufunc)</b>\n",
        ""
      ]
    },
    {
      "cell_type": "markdown",
      "metadata": {
        "id": "2HvnPEBksAml"
      },
      "source": [
        "## Arithmetic operations\n",
        "\n",
        "We can perform arithmetic operations with NumPy arrays. <br>\n",
        "Let's learn with examples:"
      ]
    },
    {
      "cell_type": "code",
      "execution_count": null,
      "metadata": {
        "id": "Obiu12MOsAml"
      },
      "outputs": [],
      "source": [
        "# Let's create an array using arange() method\n",
        "arr = np.arange(0,5)\n",
        "arr"
      ]
    },
    {
      "cell_type": "code",
      "execution_count": null,
      "metadata": {
        "id": "yyCvlc2ZsAml"
      },
      "outputs": [],
      "source": [
        "# Adding two arrays\n",
        "arr + arr  #[0, 1, 2, 3, 4] + [0, 1, 2, 3, 4]"
      ]
    },
    {
      "cell_type": "code",
      "execution_count": null,
      "metadata": {
        "id": "QupmY-r9sAmm"
      },
      "outputs": [],
      "source": [
        "# Subtracting two arrays\n",
        "arr - arr"
      ]
    },
    {
      "cell_type": "code",
      "execution_count": null,
      "metadata": {
        "id": "Oc6zO_4_sAmm"
      },
      "outputs": [],
      "source": [
        "# Multiplication\n",
        "arr * arr"
      ]
    },
    {
      "cell_type": "code",
      "execution_count": null,
      "metadata": {
        "id": "_xNq50JzsAmm"
      },
      "outputs": [],
      "source": [
        "# Division\n",
        "arr / arr\n",
        "# warning and 0/0 is replaced with nan"
      ]
    },
    {
      "cell_type": "code",
      "execution_count": null,
      "metadata": {
        "id": "OBet3TG-sAmm"
      },
      "outputs": [],
      "source": [
        "1/arr #[0, 1, 2, 3, 4]\n",
        "# warning for 1/0, inf"
      ]
    },
    {
      "cell_type": "code",
      "execution_count": null,
      "metadata": {
        "id": "bqutIvVJsAmm"
      },
      "outputs": [],
      "source": [
        "# Power of all the elements in an array\n",
        "arr ** 2"
      ]
    },
    {
      "cell_type": "code",
      "execution_count": null,
      "metadata": {
        "id": "ujrErKRfsAmm"
      },
      "outputs": [],
      "source": [
        "# Multiplication with scalar\n",
        "2 * arr #[0, 1, 2, 3, 4]"
      ]
    },
    {
      "cell_type": "markdown",
      "metadata": {
        "id": "JNGUhMfGsAmm"
      },
      "source": [
        "## Universal functions\n",
        "\n",
        "NumPy have a range of built-in [universal functions](http://docs.scipy.org/doc/numpy/reference/ufuncs.html) (ufunc). These are essentially just mathematical operations and we can use them to perform specific task, associate with the function, across the NumPy array.<br>\n",
        "Let's learn with examples:"
      ]
    },
    {
      "cell_type": "code",
      "execution_count": null,
      "metadata": {
        "id": "FAdTtmp_sAmm"
      },
      "outputs": [],
      "source": [
        "# Square root\n",
        "np.sqrt(arr) #[0, 1, 2, 3, 4]"
      ]
    },
    {
      "cell_type": "code",
      "execution_count": null,
      "metadata": {
        "id": "AAyIpzXnsAmn"
      },
      "outputs": [],
      "source": [
        "# max and min values\n",
        "np.max(arr), np.min(arr)"
      ]
    },
    {
      "cell_type": "code",
      "execution_count": null,
      "metadata": {
        "id": "atGFyyvksAmn"
      },
      "outputs": [],
      "source": [
        "# Trigonometric functions, e.g. sin, cos, tan, arcsin, ......\n",
        "np.sin(arr)"
      ]
    },
    {
      "cell_type": "markdown",
      "metadata": {
        "id": "hhUiCD1VsAmn"
      },
      "source": [
        "**Generate the follow matrix \"array_2d\" and replicate the provided outputs.**"
      ]
    },
    {
      "cell_type": "code",
      "execution_count": null,
      "metadata": {
        "id": "6S9VVyXrsAmn"
      },
      "outputs": [],
      "source": [
        "#18a:\n",
        "# To avoid overwriting the output, please code here"
      ]
    },
    {
      "cell_type": "code",
      "execution_count": null,
      "metadata": {
        "id": "aroTOFQCsAmn"
      },
      "outputs": [],
      "source": [
        "array_2d= np.arange(30).reshape(6,5)\n",
        "array_2d"
      ]
    },
    {
      "cell_type": "code",
      "execution_count": null,
      "metadata": {
        "id": "cYmfVOB_sAmn"
      },
      "outputs": [],
      "source": [
        "#18b:\n",
        "# To avoid overwriting the output, please code here"
      ]
    },
    {
      "cell_type": "code",
      "execution_count": null,
      "metadata": {
        "id": "vRQY_WL0sAmn"
      },
      "outputs": [],
      "source": [
        "array_2d[3:, 2:]"
      ]
    },
    {
      "cell_type": "code",
      "execution_count": null,
      "metadata": {
        "id": "HBZKASZwsAmn"
      },
      "outputs": [],
      "source": [
        "#18c:\n",
        "# To avoid overwriting the output, please code here"
      ]
    },
    {
      "cell_type": "code",
      "execution_count": null,
      "metadata": {
        "id": "FVrPEe2isAmn"
      },
      "outputs": [],
      "source": [
        "array_2d[5,4] # array_2d[5][4]"
      ]
    },
    {
      "cell_type": "code",
      "execution_count": null,
      "metadata": {
        "id": "WdgNoERosAmo"
      },
      "outputs": [],
      "source": [
        "#18d:\n",
        "# To avoid overwriting the output, please code here"
      ]
    },
    {
      "cell_type": "code",
      "execution_count": null,
      "metadata": {
        "id": "FAiYSiUOsAmo"
      },
      "outputs": [],
      "source": [
        "array_2d[:3,1:2] # array_2d[:3,1:3] for col 1 and 2"
      ]
    },
    {
      "cell_type": "code",
      "execution_count": null,
      "metadata": {
        "id": "3H5vuK8-sAmo"
      },
      "outputs": [],
      "source": [
        "#18e:\n",
        "# To avoid overwriting the output, please code here"
      ]
    },
    {
      "cell_type": "code",
      "execution_count": null,
      "metadata": {
        "id": "Lii8LVFrsAmo"
      },
      "outputs": [],
      "source": [
        "array_2d[2,:] # array_2d[2:3,:] will give the same output"
      ]
    },
    {
      "cell_type": "code",
      "execution_count": null,
      "metadata": {
        "id": "2qAuLsA2sAmo"
      },
      "outputs": [],
      "source": [
        "#18f:\n",
        "# To avoid overwriting the output, please code here"
      ]
    },
    {
      "cell_type": "code",
      "execution_count": null,
      "metadata": {
        "id": "NMVbuBS4sAmo"
      },
      "outputs": [],
      "source": [
        "array_2d"
      ]
    },
    {
      "cell_type": "code",
      "execution_count": null,
      "metadata": {
        "id": "igYdtZRmsAmo"
      },
      "outputs": [],
      "source": [
        "array_2d[2:4,:]"
      ]
    },
    {
      "cell_type": "markdown",
      "metadata": {
        "id": "kc0x8JcbsAmp"
      },
      "source": [
        "**Calculate the sum of all the numbers in array_2d?**"
      ]
    },
    {
      "cell_type": "code",
      "execution_count": null,
      "metadata": {
        "id": "k5eRbt9CsAmp"
      },
      "outputs": [],
      "source": [
        "# To avoid overwriting the output, please code here\n",
        "array_2d"
      ]
    },
    {
      "cell_type": "code",
      "execution_count": null,
      "metadata": {
        "id": "25B-Ou16sAmp"
      },
      "outputs": [],
      "source": [
        "array_2d.sum()"
      ]
    },
    {
      "cell_type": "code",
      "execution_count": null,
      "metadata": {
        "id": "V_gYDdASsAmp"
      },
      "outputs": [],
      "source": [
        "array_2d.sum(axis=1)"
      ]
    },
    {
      "cell_type": "markdown",
      "metadata": {
        "id": "Uee8LpV2sAmp"
      },
      "source": [
        "**Calculate sum of all the rows and columns in array_2d.**"
      ]
    },
    {
      "cell_type": "code",
      "execution_count": null,
      "metadata": {
        "id": "Y8bWsvQfsAmp"
      },
      "outputs": [],
      "source": [
        "# To avoid overwriting the output, please code here"
      ]
    },
    {
      "cell_type": "code",
      "execution_count": null,
      "metadata": {
        "id": "wAc53YbssAmq"
      },
      "outputs": [],
      "source": [
        "print(\"Row sum:\", array_2d.sum(axis=1))\n",
        "print(\"Columns sum:\", array_2d.sum(axis=0))"
      ]
    },
    {
      "cell_type": "markdown",
      "metadata": {
        "id": "Pots2AGcsAmq"
      },
      "source": [
        "**Calculate the standard deviation of the values in array_2d.**"
      ]
    },
    {
      "cell_type": "code",
      "execution_count": null,
      "metadata": {
        "id": "fXLzVvhOsAmq"
      },
      "outputs": [],
      "source": [
        "# To avoid overwriting the output, please code here"
      ]
    },
    {
      "cell_type": "code",
      "execution_count": null,
      "metadata": {
        "id": "RXHyLzA_sAmq"
      },
      "outputs": [],
      "source": [
        "array_2d.std()"
      ]
    },
    {
      "cell_type": "markdown",
      "metadata": {
        "id": "xyTj1o6xsAmq"
      },
      "source": [
        "**Create a boolean mask and list out the numbers that are not divisible by 3 in array_2d.**"
      ]
    },
    {
      "cell_type": "code",
      "execution_count": null,
      "metadata": {
        "id": "1zNf8zDWsAmr"
      },
      "outputs": [],
      "source": [
        "# To avoid overwriting the output, please code here"
      ]
    },
    {
      "cell_type": "code",
      "execution_count": null,
      "metadata": {
        "id": "3Vqp43nmsAmr"
      },
      "outputs": [],
      "source": [
        "array_2d"
      ]
    },
    {
      "cell_type": "code",
      "execution_count": null,
      "metadata": {
        "id": "7yQh_8xosAmr"
      },
      "outputs": [],
      "source": [
        "array_2d % 3 != 0"
      ]
    },
    {
      "cell_type": "code",
      "execution_count": null,
      "metadata": {
        "id": "OpsqByyLsAmr"
      },
      "outputs": [],
      "source": [
        "mask_mod_3 = 0 != array_2d % 3\n",
        "mask_mod_3"
      ]
    },
    {
      "cell_type": "code",
      "execution_count": null,
      "metadata": {
        "id": "su6Kx-iSsAmr"
      },
      "outputs": [],
      "source": [
        "mask_mod_3 = 0 != array_2d % 3  # Creating mask for the said condition\n",
        "array_2d[mask_mod_3]            # pass the boolean mask to array_2d to return the required results"
      ]
    },
    {
      "cell_type": "code",
      "execution_count": null,
      "metadata": {
        "id": "X9x5FV6ZsAms"
      },
      "outputs": [],
      "source": [
        "array_2d[2:4,2:4] # inner slice [From 2 row to 3 row, From 2 column to 3 column]"
      ]
    },
    {
      "cell_type": "code",
      "execution_count": null,
      "metadata": {
        "id": "eLnz02J5sAms"
      },
      "outputs": [],
      "source": []
    }
  ],
  "metadata": {
    "kernelspec": {
      "display_name": "Python 3 (ipykernel)",
      "language": "python",
      "name": "python3"
    },
    "language_info": {
      "codemirror_mode": {
        "name": "ipython",
        "version": 3
      },
      "file_extension": ".py",
      "mimetype": "text/x-python",
      "name": "python",
      "nbconvert_exporter": "python",
      "pygments_lexer": "ipython3",
      "version": "3.10.12"
    },
    "colab": {
      "provenance": [],
      "include_colab_link": true
    }
  },
  "nbformat": 4,
  "nbformat_minor": 0
}