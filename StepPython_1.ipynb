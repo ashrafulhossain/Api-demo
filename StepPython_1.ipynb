{
  "nbformat": 4,
  "nbformat_minor": 0,
  "metadata": {
    "colab": {
      "provenance": [],
      "authorship_tag": "ABX9TyMBwGrMedruOjadb8gXs1rj",
      "include_colab_link": true
    },
    "kernelspec": {
      "name": "python3",
      "display_name": "Python 3"
    },
    "language_info": {
      "name": "python"
    }
  },
  "cells": [
    {
      "cell_type": "markdown",
      "metadata": {
        "id": "view-in-github",
        "colab_type": "text"
      },
      "source": [
        "<a href=\"https://colab.research.google.com/github/ashrafulhossain/Api-demo/blob/main/StepPython_1.ipynb\" target=\"_parent\"><img src=\"https://colab.research.google.com/assets/colab-badge.svg\" alt=\"Open In Colab\"/></a>"
      ]
    },
    {
      "cell_type": "code",
      "execution_count": null,
      "metadata": {
        "id": "iIZ_LKFW2ZdZ"
      },
      "outputs": [],
      "source": [
        "#fordo2= ['Sugar', 'Meat', 'Eggplant', 'Apples', 'Tejpata']\n",
        "#fordo3= ['Milk', 'Cabbage', 'Eggs', 'Limesh', 'Fish']\n",
        "#fordo4= ['Banana', 'Eggs', 'Eggplant', 'Oranges', 'Milk']"
      ]
    },
    {
      "cell_type": "code",
      "source": [
        "fordo23 = fordo3 + fordo4\n",
        "print(fordo23)"
      ],
      "metadata": {
        "colab": {
          "base_uri": "https://localhost:8080/"
        },
        "id": "aAUOjElk2nCk",
        "outputId": "34572d4e-64ee-4fd7-b393-1bf33f681600"
      },
      "execution_count": null,
      "outputs": [
        {
          "output_type": "stream",
          "name": "stdout",
          "text": [
            "['Milk', 'Cabbage', 'Eggs', 'Limesh', 'Fish', 'Banana', 'Eggs', 'Eggplant', 'Oranges', 'Milk']\n"
          ]
        }
      ]
    },
    {
      "cell_type": "code",
      "source": [
        "fordo23_set = set (fordo23)\n",
        "print(fordo23_set)"
      ],
      "metadata": {
        "colab": {
          "base_uri": "https://localhost:8080/"
        },
        "id": "pneL24sz2nNc",
        "outputId": "e8636800-3575-4896-f7e9-533edc755f1d"
      },
      "execution_count": null,
      "outputs": [
        {
          "output_type": "stream",
          "name": "stdout",
          "text": [
            "{'Banana', 'Milk', 'Eggplant', 'Fish', 'Limesh', 'Eggs', 'Oranges', 'Cabbage'}\n"
          ]
        }
      ]
    },
    {
      "cell_type": "code",
      "source": [],
      "metadata": {
        "id": "gMAm26J-2nXQ"
      },
      "execution_count": null,
      "outputs": []
    },
    {
      "cell_type": "code",
      "source": [
        "numbers_words = [1, 200, 3, 1, 3, 4, 6, 'Cloth', 'Colour', 'Cloth', 'Green']\n",
        "numbers_word_set = set(numbers_words)\n",
        "print(numbers_word_set)"
      ],
      "metadata": {
        "colab": {
          "base_uri": "https://localhost:8080/"
        },
        "id": "4foOQ_mJ2nj8",
        "outputId": "ea39436c-f072-47a1-9ddc-87593ff59708"
      },
      "execution_count": null,
      "outputs": [
        {
          "output_type": "stream",
          "name": "stdout",
          "text": [
            "{'Green', 1, 3, 4, 6, 200, 'Colour', 'Cloth'}\n"
          ]
        }
      ]
    },
    {
      "cell_type": "code",
      "source": [
        "s1 = {12, 3, 5, 6, 2 , 8, 12, 3,}\n",
        "s1.add(14)\n",
        "print(s1)"
      ],
      "metadata": {
        "id": "B5SUx4sr2ntm",
        "colab": {
          "base_uri": "https://localhost:8080/"
        },
        "outputId": "274a70be-f3d5-4ffb-fd66-b5f40c771787"
      },
      "execution_count": null,
      "outputs": [
        {
          "output_type": "stream",
          "name": "stdout",
          "text": [
            "{2, 3, 5, 6, 8, 12, 14}\n"
          ]
        }
      ]
    },
    {
      "cell_type": "code",
      "source": [
        "ashraf12 = ['juice', 'frutika', 5, 4, 6, 'salad', 'juice', 5]\n",
        "hossain = set(ashraf12)\n",
        "print(hossain)"
      ],
      "metadata": {
        "id": "T-V98n3X2n3m",
        "colab": {
          "base_uri": "https://localhost:8080/"
        },
        "outputId": "89e62985-1d2b-4122-feca-4cc78d9e3f56"
      },
      "execution_count": null,
      "outputs": [
        {
          "output_type": "stream",
          "name": "stdout",
          "text": [
            "{'salad', 4, 5, 6, 'juice', 'frutika'}\n"
          ]
        }
      ]
    },
    {
      "cell_type": "code",
      "source": [
        "hossain.add('fried rice')\n",
        "print(hossain)"
      ],
      "metadata": {
        "colab": {
          "base_uri": "https://localhost:8080/"
        },
        "id": "hHyFys_PSQZe",
        "outputId": "968fb5c0-e605-4ae9-9455-d5ec1c0717ac"
      },
      "execution_count": null,
      "outputs": [
        {
          "output_type": "stream",
          "name": "stdout",
          "text": [
            "{'salad', 4, 5, 6, 'fried rice', 'juice', 'frutika'}\n"
          ]
        }
      ]
    },
    {
      "cell_type": "code",
      "source": [
        "(1, 2, 3)"
      ],
      "metadata": {
        "id": "qjDEUUPQUiBS",
        "colab": {
          "base_uri": "https://localhost:8080/"
        },
        "outputId": "9d3fc5f6-63a5-416f-9665-3186a76bc4bc"
      },
      "execution_count": null,
      "outputs": [
        {
          "output_type": "execute_result",
          "data": {
            "text/plain": [
              "(1, 2, 3)"
            ]
          },
          "metadata": {},
          "execution_count": 1
        }
      ]
    },
    {
      "cell_type": "code",
      "source": [
        "type((1, 2, 3))"
      ],
      "metadata": {
        "colab": {
          "base_uri": "https://localhost:8080/"
        },
        "id": "hOyQ7Wr8yLM3",
        "outputId": "248154e6-cafd-494d-f862-7e485b2fed56"
      },
      "execution_count": null,
      "outputs": [
        {
          "output_type": "execute_result",
          "data": {
            "text/plain": [
              "tuple"
            ]
          },
          "metadata": {},
          "execution_count": 2
        }
      ]
    },
    {
      "cell_type": "code",
      "source": [
        "my_tuple = (1, 2, ['Apple', 3])\n",
        "print(my_tuple)"
      ],
      "metadata": {
        "colab": {
          "base_uri": "https://localhost:8080/"
        },
        "id": "Y8XYMgnayLz0",
        "outputId": "c0b4efca-5494-4dbc-f0bc-a8ef337b5edd"
      },
      "execution_count": null,
      "outputs": [
        {
          "output_type": "stream",
          "name": "stdout",
          "text": [
            "(1, 2, ['Apple', 3])\n"
          ]
        }
      ]
    },
    {
      "cell_type": "code",
      "source": [
        "type(my_tuple)"
      ],
      "metadata": {
        "colab": {
          "base_uri": "https://localhost:8080/"
        },
        "id": "HB__twvXyL9y",
        "outputId": "a7c3a941-3359-4024-baff-a4ab4083d5d6"
      },
      "execution_count": null,
      "outputs": [
        {
          "output_type": "execute_result",
          "data": {
            "text/plain": [
              "tuple"
            ]
          },
          "metadata": {},
          "execution_count": 4
        }
      ]
    },
    {
      "cell_type": "code",
      "source": [
        "bazar = ('Sugar', 'Meat', 'Eggplant', 'Apples', 'Tejpata')\n"
      ],
      "metadata": {
        "id": "HDT3XV82yMGy"
      },
      "execution_count": null,
      "outputs": []
    },
    {
      "cell_type": "code",
      "source": [],
      "metadata": {
        "id": "050yE8982Xqb"
      },
      "execution_count": null,
      "outputs": []
    },
    {
      "cell_type": "code",
      "source": [
        "type(bazar)"
      ],
      "metadata": {
        "colab": {
          "base_uri": "https://localhost:8080/"
        },
        "id": "m01Udk9wyMPp",
        "outputId": "52c0dd51-1cd8-4855-b98e-fda3700005c4"
      },
      "execution_count": null,
      "outputs": [
        {
          "output_type": "execute_result",
          "data": {
            "text/plain": [
              "tuple"
            ]
          },
          "metadata": {},
          "execution_count": 6
        }
      ]
    },
    {
      "cell_type": "code",
      "source": [
        "nums = [1, 2, 3]\n",
        "nums[1] = 4\n",
        "print(nums)"
      ],
      "metadata": {
        "colab": {
          "base_uri": "https://localhost:8080/"
        },
        "id": "R5ejzJph1J0z",
        "outputId": "e1c5214d-591f-46ae-fedf-a8c6e349c3e7"
      },
      "execution_count": null,
      "outputs": [
        {
          "output_type": "stream",
          "name": "stdout",
          "text": [
            "[1, 4, 3]\n"
          ]
        }
      ]
    },
    {
      "cell_type": "code",
      "source": [
        "my_list = [1, 2, 3]\n",
        "new_list = my_list\n",
        "my_list.append(4)\n",
        "print(len(new_list))"
      ],
      "metadata": {
        "colab": {
          "base_uri": "https://localhost:8080/"
        },
        "id": "5Im8GT_T45to",
        "outputId": "9643d306-a9f9-43eb-d6fa-64c722afd0d1"
      },
      "execution_count": null,
      "outputs": [
        {
          "output_type": "stream",
          "name": "stdout",
          "text": [
            "4\n"
          ]
        }
      ]
    },
    {
      "cell_type": "code",
      "source": [
        "5 / 2"
      ],
      "metadata": {
        "id": "BAtRBWOE5c3B",
        "colab": {
          "base_uri": "https://localhost:8080/"
        },
        "outputId": "26ac0549-7fb2-4a0e-e287-feadc6b02306"
      },
      "execution_count": null,
      "outputs": [
        {
          "output_type": "execute_result",
          "data": {
            "text/plain": [
              "2.5"
            ]
          },
          "metadata": {},
          "execution_count": 1
        }
      ]
    },
    {
      "cell_type": "code",
      "source": [
        "5 // 2"
      ],
      "metadata": {
        "id": "MYVUCHsF5dHL",
        "colab": {
          "base_uri": "https://localhost:8080/"
        },
        "outputId": "9acf43f2-4493-4762-ddd8-e4d2215e54b6"
      },
      "execution_count": null,
      "outputs": [
        {
          "output_type": "execute_result",
          "data": {
            "text/plain": [
              "2"
            ]
          },
          "metadata": {},
          "execution_count": 2
        }
      ]
    },
    {
      "cell_type": "code",
      "source": [
        "s1 = 9\n",
        "s2 = 3\n",
        "sf = 9 // 3\n",
        "print(sf)"
      ],
      "metadata": {
        "id": "V8JTD7_S5dRd",
        "colab": {
          "base_uri": "https://localhost:8080/"
        },
        "outputId": "41147b9a-bf2e-4ac4-f12e-8344c11c98f3"
      },
      "execution_count": null,
      "outputs": [
        {
          "output_type": "stream",
          "name": "stdout",
          "text": [
            "3\n"
          ]
        }
      ]
    },
    {
      "cell_type": "code",
      "source": [
        "5.4 // 2"
      ],
      "metadata": {
        "colab": {
          "base_uri": "https://localhost:8080/"
        },
        "id": "UXwq6Sgp-GbM",
        "outputId": "9f5270af-4c15-4288-a6ed-2a2e62d46b0f"
      },
      "execution_count": null,
      "outputs": [
        {
          "output_type": "execute_result",
          "data": {
            "text/plain": [
              "2.0"
            ]
          },
          "metadata": {},
          "execution_count": 4
        }
      ]
    },
    {
      "cell_type": "code",
      "source": [
        "5 % 2"
      ],
      "metadata": {
        "colab": {
          "base_uri": "https://localhost:8080/"
        },
        "id": "TjB6B4pq-Gio",
        "outputId": "1b175bde-894d-4822-b740-739b5a9a932a"
      },
      "execution_count": null,
      "outputs": [
        {
          "output_type": "execute_result",
          "data": {
            "text/plain": [
              "1"
            ]
          },
          "metadata": {},
          "execution_count": 5
        }
      ]
    },
    {
      "cell_type": "code",
      "source": [
        "5 + 110"
      ],
      "metadata": {
        "colab": {
          "base_uri": "https://localhost:8080/"
        },
        "id": "L7R_I146-GqP",
        "outputId": "fd5a0a18-5bec-4269-d61e-03770730629d"
      },
      "execution_count": null,
      "outputs": [
        {
          "output_type": "execute_result",
          "data": {
            "text/plain": [
              "115"
            ]
          },
          "metadata": {},
          "execution_count": 6
        }
      ]
    },
    {
      "cell_type": "code",
      "source": [
        "20 - 10"
      ],
      "metadata": {
        "colab": {
          "base_uri": "https://localhost:8080/"
        },
        "id": "Rjf23SEL-Gyd",
        "outputId": "5f3e9b78-d031-4cf5-fe72-b5773ed3cf31"
      },
      "execution_count": null,
      "outputs": [
        {
          "output_type": "execute_result",
          "data": {
            "text/plain": [
              "10"
            ]
          },
          "metadata": {},
          "execution_count": 7
        }
      ]
    },
    {
      "cell_type": "code",
      "source": [
        "20 * 5"
      ],
      "metadata": {
        "colab": {
          "base_uri": "https://localhost:8080/"
        },
        "id": "NEnjXeTB-G9v",
        "outputId": "600b7775-ae3c-404a-8200-587e82012b8e"
      },
      "execution_count": null,
      "outputs": [
        {
          "output_type": "execute_result",
          "data": {
            "text/plain": [
              "100"
            ]
          },
          "metadata": {},
          "execution_count": 8
        }
      ]
    },
    {
      "cell_type": "code",
      "source": [
        "20 / 5"
      ],
      "metadata": {
        "id": "gBMQWyut5dcM",
        "colab": {
          "base_uri": "https://localhost:8080/"
        },
        "outputId": "bbb8a9fb-7f4f-4d58-d6c7-439541e6d30c"
      },
      "execution_count": null,
      "outputs": [
        {
          "output_type": "execute_result",
          "data": {
            "text/plain": [
              "4.0"
            ]
          },
          "metadata": {},
          "execution_count": 9
        }
      ]
    },
    {
      "cell_type": "code",
      "source": [
        "10 // 3"
      ],
      "metadata": {
        "id": "Yh5oXnV45dlb",
        "colab": {
          "base_uri": "https://localhost:8080/"
        },
        "outputId": "a3b62ac8-d330-4b92-e92a-7b18bb046242"
      },
      "execution_count": null,
      "outputs": [
        {
          "output_type": "execute_result",
          "data": {
            "text/plain": [
              "3"
            ]
          },
          "metadata": {},
          "execution_count": 10
        }
      ]
    },
    {
      "cell_type": "code",
      "source": [
        "5 ** 3"
      ],
      "metadata": {
        "colab": {
          "base_uri": "https://localhost:8080/"
        },
        "id": "rUsTgBcZDX3s",
        "outputId": "ec907363-369d-4745-e778-04d4fa383f97"
      },
      "execution_count": null,
      "outputs": [
        {
          "output_type": "execute_result",
          "data": {
            "text/plain": [
              "125"
            ]
          },
          "metadata": {},
          "execution_count": 11
        }
      ]
    },
    {
      "cell_type": "code",
      "source": [
        "100 % 5"
      ],
      "metadata": {
        "colab": {
          "base_uri": "https://localhost:8080/"
        },
        "id": "XrN59_z7DYC2",
        "outputId": "7e17eb38-f89c-48a8-b680-f4943cc8befd"
      },
      "execution_count": null,
      "outputs": [
        {
          "output_type": "execute_result",
          "data": {
            "text/plain": [
              "0"
            ]
          },
          "metadata": {},
          "execution_count": 12
        }
      ]
    },
    {
      "cell_type": "code",
      "source": [
        "10 >= 10.2"
      ],
      "metadata": {
        "colab": {
          "base_uri": "https://localhost:8080/"
        },
        "id": "vDNn5UfNDYKd",
        "outputId": "5b91019f-11ce-49c7-83fd-27d010ad5050"
      },
      "execution_count": null,
      "outputs": [
        {
          "output_type": "execute_result",
          "data": {
            "text/plain": [
              "False"
            ]
          },
          "metadata": {},
          "execution_count": 13
        }
      ]
    },
    {
      "cell_type": "code",
      "source": [
        "3 != 3"
      ],
      "metadata": {
        "colab": {
          "base_uri": "https://localhost:8080/"
        },
        "id": "FEpoU7LtDYRZ",
        "outputId": "05af819d-fbb0-4510-9eba-36119ffda115"
      },
      "execution_count": null,
      "outputs": [
        {
          "output_type": "execute_result",
          "data": {
            "text/plain": [
              "False"
            ]
          },
          "metadata": {},
          "execution_count": 14
        }
      ]
    },
    {
      "cell_type": "code",
      "source": [
        "4 != 3"
      ],
      "metadata": {
        "colab": {
          "base_uri": "https://localhost:8080/"
        },
        "id": "dsStEVURDYXy",
        "outputId": "1e914865-bcd7-4b64-88a6-5d3d7656cb9b"
      },
      "execution_count": null,
      "outputs": [
        {
          "output_type": "execute_result",
          "data": {
            "text/plain": [
              "True"
            ]
          },
          "metadata": {},
          "execution_count": 15
        }
      ]
    },
    {
      "cell_type": "code",
      "source": [
        "10 >= 12"
      ],
      "metadata": {
        "colab": {
          "base_uri": "https://localhost:8080/"
        },
        "id": "Hu9C2H1fDYdA",
        "outputId": "5529c9ce-b812-4811-c5b0-cab4144bf5a8"
      },
      "execution_count": null,
      "outputs": [
        {
          "output_type": "execute_result",
          "data": {
            "text/plain": [
              "False"
            ]
          },
          "metadata": {},
          "execution_count": 16
        }
      ]
    },
    {
      "cell_type": "code",
      "source": [
        "12 => 12"
      ],
      "metadata": {
        "colab": {
          "base_uri": "https://localhost:8080/",
          "height": 143
        },
        "id": "qfMkz0P-IFSe",
        "outputId": "1f2e80e4-795b-43a4-bf6a-f0b5e0110ff6"
      },
      "execution_count": null,
      "outputs": [
        {
          "output_type": "error",
          "ename": "SyntaxError",
          "evalue": "ignored",
          "traceback": [
            "\u001b[0;36m  File \u001b[0;32m\"<ipython-input-17-385ffa69e6cd>\"\u001b[0;36m, line \u001b[0;32m1\u001b[0m\n\u001b[0;31m    12 => 12\u001b[0m\n\u001b[0m    ^\u001b[0m\n\u001b[0;31mSyntaxError\u001b[0m\u001b[0;31m:\u001b[0m cannot assign to literal\n"
          ]
        }
      ]
    },
    {
      "cell_type": "code",
      "source": [
        "12 == 12"
      ],
      "metadata": {
        "colab": {
          "base_uri": "https://localhost:8080/"
        },
        "id": "1wbVTwPLIFbm",
        "outputId": "aa288624-9133-4bfc-97c8-14ff67f887a2"
      },
      "execution_count": null,
      "outputs": [
        {
          "output_type": "execute_result",
          "data": {
            "text/plain": [
              "True"
            ]
          },
          "metadata": {},
          "execution_count": 18
        }
      ]
    },
    {
      "cell_type": "code",
      "source": [
        "False and False"
      ],
      "metadata": {
        "id": "AaxS33wXIFs4",
        "colab": {
          "base_uri": "https://localhost:8080/"
        },
        "outputId": "fec478fc-4a84-45bd-93f8-747d3e311c92"
      },
      "execution_count": null,
      "outputs": [
        {
          "output_type": "execute_result",
          "data": {
            "text/plain": [
              "False"
            ]
          },
          "metadata": {},
          "execution_count": 20
        }
      ]
    },
    {
      "cell_type": "code",
      "source": [
        "5 and 6"
      ],
      "metadata": {
        "id": "uj80feuIIFz2",
        "colab": {
          "base_uri": "https://localhost:8080/"
        },
        "outputId": "5b6b7934-4cbb-46cb-81b0-0735c1a0c5ea"
      },
      "execution_count": null,
      "outputs": [
        {
          "output_type": "execute_result",
          "data": {
            "text/plain": [
              "6"
            ]
          },
          "metadata": {},
          "execution_count": 21
        }
      ]
    },
    {
      "cell_type": "code",
      "source": [
        "bool(5 and False)"
      ],
      "metadata": {
        "id": "j-nyGpZYIF7d",
        "colab": {
          "base_uri": "https://localhost:8080/"
        },
        "outputId": "b6b15591-88d0-4fb0-dd4e-a97565e20bfc"
      },
      "execution_count": null,
      "outputs": [
        {
          "output_type": "execute_result",
          "data": {
            "text/plain": [
              "False"
            ]
          },
          "metadata": {},
          "execution_count": 23
        }
      ]
    },
    {
      "cell_type": "code",
      "source": [
        "True or False"
      ],
      "metadata": {
        "id": "fDxSNCaEIGC6",
        "colab": {
          "base_uri": "https://localhost:8080/"
        },
        "outputId": "7fa3dfae-ca65-451a-8c5d-14064b0f2884"
      },
      "execution_count": null,
      "outputs": [
        {
          "output_type": "execute_result",
          "data": {
            "text/plain": [
              "True"
            ]
          },
          "metadata": {},
          "execution_count": 24
        }
      ]
    },
    {
      "cell_type": "code",
      "source": [
        "False or False"
      ],
      "metadata": {
        "id": "S-UF6YWeDYi2",
        "colab": {
          "base_uri": "https://localhost:8080/"
        },
        "outputId": "08ce5120-99d0-462c-96bb-cb874e28fa07"
      },
      "execution_count": null,
      "outputs": [
        {
          "output_type": "execute_result",
          "data": {
            "text/plain": [
              "False"
            ]
          },
          "metadata": {},
          "execution_count": 25
        }
      ]
    },
    {
      "cell_type": "code",
      "source": [
        "True and True"
      ],
      "metadata": {
        "colab": {
          "base_uri": "https://localhost:8080/"
        },
        "id": "sUUmZuUUb_De",
        "outputId": "0976ca11-42fc-42c1-d41c-95521c68b0e8"
      },
      "execution_count": null,
      "outputs": [
        {
          "output_type": "execute_result",
          "data": {
            "text/plain": [
              "True"
            ]
          },
          "metadata": {},
          "execution_count": 26
        }
      ]
    },
    {
      "cell_type": "code",
      "source": [
        "True and False"
      ],
      "metadata": {
        "colab": {
          "base_uri": "https://localhost:8080/"
        },
        "id": "oxYvNWDtb_QT",
        "outputId": "779a3c07-b5e0-4c62-de32-541e8bfe58b9"
      },
      "execution_count": null,
      "outputs": [
        {
          "output_type": "execute_result",
          "data": {
            "text/plain": [
              "False"
            ]
          },
          "metadata": {},
          "execution_count": 27
        }
      ]
    },
    {
      "cell_type": "code",
      "source": [
        "bool(False)"
      ],
      "metadata": {
        "colab": {
          "base_uri": "https://localhost:8080/"
        },
        "id": "NcW80uPrb_aY",
        "outputId": "47eed81c-84ce-4493-d02d-92983e6c8474"
      },
      "execution_count": null,
      "outputs": [
        {
          "output_type": "execute_result",
          "data": {
            "text/plain": [
              "False"
            ]
          },
          "metadata": {},
          "execution_count": 28
        }
      ]
    },
    {
      "cell_type": "code",
      "source": [
        "bool(\"\")"
      ],
      "metadata": {
        "colab": {
          "base_uri": "https://localhost:8080/"
        },
        "id": "NhPThiPOb_j9",
        "outputId": "f9f18d63-d177-4b81-f6ec-e41b1c1cfdfa"
      },
      "execution_count": null,
      "outputs": [
        {
          "output_type": "execute_result",
          "data": {
            "text/plain": [
              "False"
            ]
          },
          "metadata": {},
          "execution_count": 29
        }
      ]
    },
    {
      "cell_type": "code",
      "source": [
        "tup = tuple()\n",
        "bool(tup)"
      ],
      "metadata": {
        "colab": {
          "base_uri": "https://localhost:8080/"
        },
        "id": "wmVzkHmrb_t8",
        "outputId": "336b80cd-a6dd-4e88-be76-37a4329646f9"
      },
      "execution_count": null,
      "outputs": [
        {
          "output_type": "execute_result",
          "data": {
            "text/plain": [
              "False"
            ]
          },
          "metadata": {},
          "execution_count": 31
        }
      ]
    },
    {
      "cell_type": "code",
      "source": [
        "True and False"
      ],
      "metadata": {
        "colab": {
          "base_uri": "https://localhost:8080/"
        },
        "id": "d_15arfGb_0x",
        "outputId": "aebd3af8-d703-4dcb-b2af-645f35fe28cc"
      },
      "execution_count": null,
      "outputs": [
        {
          "output_type": "execute_result",
          "data": {
            "text/plain": [
              "False"
            ]
          },
          "metadata": {},
          "execution_count": 32
        }
      ]
    },
    {
      "cell_type": "code",
      "source": [
        "bool(True and False)"
      ],
      "metadata": {
        "colab": {
          "base_uri": "https://localhost:8080/"
        },
        "id": "Vz17JuaEb_8C",
        "outputId": "977b2264-0f68-4c93-b218-308e31ed4a98"
      },
      "execution_count": null,
      "outputs": [
        {
          "output_type": "execute_result",
          "data": {
            "text/plain": [
              "False"
            ]
          },
          "metadata": {},
          "execution_count": 33
        }
      ]
    },
    {
      "cell_type": "code",
      "source": [
        "10 // 3"
      ],
      "metadata": {
        "id": "7dGH75iK5ds_",
        "colab": {
          "base_uri": "https://localhost:8080/"
        },
        "outputId": "aaa7a8bb-f44f-4dce-8350-d7dc63487efb"
      },
      "execution_count": null,
      "outputs": [
        {
          "output_type": "execute_result",
          "data": {
            "text/plain": [
              "3"
            ]
          },
          "metadata": {},
          "execution_count": 34
        }
      ]
    },
    {
      "cell_type": "code",
      "source": [
        "False and False"
      ],
      "metadata": {
        "colab": {
          "base_uri": "https://localhost:8080/"
        },
        "id": "GUP9rCxgefEE",
        "outputId": "59167002-7af7-4fd2-853b-072bbe2e1cff"
      },
      "execution_count": null,
      "outputs": [
        {
          "output_type": "execute_result",
          "data": {
            "text/plain": [
              "False"
            ]
          },
          "metadata": {},
          "execution_count": 35
        }
      ]
    },
    {
      "cell_type": "code",
      "source": [
        "False or False"
      ],
      "metadata": {
        "colab": {
          "base_uri": "https://localhost:8080/"
        },
        "id": "WrANdCXgfnAU",
        "outputId": "6ad3955d-aff6-407e-98bd-1741d1fd829f"
      },
      "execution_count": null,
      "outputs": [
        {
          "output_type": "execute_result",
          "data": {
            "text/plain": [
              "False"
            ]
          },
          "metadata": {},
          "execution_count": 36
        }
      ]
    },
    {
      "cell_type": "code",
      "source": [],
      "metadata": {
        "id": "3NDPd9Xrfqyh"
      },
      "execution_count": null,
      "outputs": []
    },
    {
      "cell_type": "code",
      "source": [
        "radius = 5\n",
        "area = 3.146 * radius ** 2\n",
        "print(area)"
      ],
      "metadata": {
        "colab": {
          "base_uri": "https://localhost:8080/"
        },
        "id": "frxGXAMooPkd",
        "outputId": "989e5c83-77bb-4acd-d8ef-f0f1e09f7276"
      },
      "execution_count": null,
      "outputs": [
        {
          "output_type": "stream",
          "name": "stdout",
          "text": [
            "78.64999999999999\n"
          ]
        }
      ]
    },
    {
      "cell_type": "code",
      "source": [
        "x = 10\n",
        "y= 2\n",
        "total = int(x / y)\n",
        "print(total)"
      ],
      "metadata": {
        "id": "DvhrtkDcoP6_",
        "colab": {
          "base_uri": "https://localhost:8080/"
        },
        "outputId": "dfb942f7-2973-4957-fc91-576e547c3164"
      },
      "execution_count": null,
      "outputs": [
        {
          "output_type": "stream",
          "name": "stdout",
          "text": [
            "5\n"
          ]
        }
      ]
    },
    {
      "cell_type": "code",
      "source": [
        "username : 'ashraful'\n",
        "password : '123456'\n",
        "if username == 'ashraful' and password == '123456':\n",
        "  print('login succesful')\n",
        "\n",
        "\n",
        "else:\n",
        "  print('login failed')\n"
      ],
      "metadata": {
        "id": "fS76hjRRULY1"
      },
      "execution_count": null,
      "outputs": []
    },
    {
      "cell_type": "code",
      "source": [
        "age = 40\n",
        "if age < 50:\n",
        "  print(\"age is less then 50\")\n"
      ],
      "metadata": {
        "colab": {
          "base_uri": "https://localhost:8080/"
        },
        "id": "8wqaqFUeULjS",
        "outputId": "8ec93e0a-e015-4ef7-b3c1-3b71747d8424"
      },
      "execution_count": null,
      "outputs": [
        {
          "output_type": "stream",
          "name": "stdout",
          "text": [
            "age is less then 50\n"
          ]
        }
      ]
    },
    {
      "cell_type": "code",
      "source": [
        "age = 20\n",
        "if age < 30:\n",
        "  print(\"Age is less then 30\")\n",
        "  print(\"Age is getter then equal to 30\")"
      ],
      "metadata": {
        "colab": {
          "base_uri": "https://localhost:8080/"
        },
        "id": "uVyRYb81ULsE",
        "outputId": "8135b667-0b46-441c-81f0-b331a54b2726"
      },
      "execution_count": null,
      "outputs": [
        {
          "output_type": "stream",
          "name": "stdout",
          "text": [
            "Age is less then 30\n",
            "Age is getter then equal to 30\n"
          ]
        }
      ]
    },
    {
      "cell_type": "code",
      "source": [
        "age = 40\n",
        "if age < 30:\n",
        "  print(\"Age is less then 30\")\n",
        "else:\n",
        "  print(\"Age is less then or equal 30\")"
      ],
      "metadata": {
        "colab": {
          "base_uri": "https://localhost:8080/"
        },
        "id": "mnfQMtKiUL0D",
        "outputId": "20bdca00-88fb-4877-80d7-0ed7c0b0dbb5"
      },
      "execution_count": null,
      "outputs": [
        {
          "output_type": "stream",
          "name": "stdout",
          "text": [
            "Age is less then or equal 30\n"
          ]
        }
      ]
    },
    {
      "cell_type": "code",
      "source": [
        "age = 40\n",
        "if age < 30:\n",
        "  print(\"age is less then 30\")\n",
        "elif age >= 30 or age < 35:\n",
        "  print(\"Age is between 30 and 35\")\n",
        "else:\n",
        "  print(\"Age is greater then equal to 35\")"
      ],
      "metadata": {
        "colab": {
          "base_uri": "https://localhost:8080/"
        },
        "id": "bE56C3B9UL8N",
        "outputId": "6a0e3d14-ee8d-4151-af80-8bf547911f2e"
      },
      "execution_count": null,
      "outputs": [
        {
          "output_type": "stream",
          "name": "stdout",
          "text": [
            "Age is between 30 and 35\n"
          ]
        }
      ]
    },
    {
      "cell_type": "code",
      "source": [],
      "metadata": {
        "id": "4CFyP35BUMFU"
      },
      "execution_count": null,
      "outputs": []
    },
    {
      "cell_type": "code",
      "source": [
        "score = 78\n",
        "if score >= 90:\n",
        "  print(\"Letter grade is: \", 'A')\n",
        "elif score >= 80:\n",
        "  print(\"Letter grade is \", 'B')\n",
        "elif score >= 70:\n",
        "  print(\"Letter grade is \", 'C')\n",
        "elif score >= 60:\n",
        "  print(\"Letter grade is \", 'D')\n",
        "else:\n",
        "  print(\"Letter grade is \" 'F')"
      ],
      "metadata": {
        "colab": {
          "base_uri": "https://localhost:8080/"
        },
        "id": "4lNUe-DNw4Dz",
        "outputId": "c83e0159-b3cf-498e-ee0a-2f0af533f3f8"
      },
      "execution_count": null,
      "outputs": [
        {
          "output_type": "stream",
          "name": "stdout",
          "text": [
            "Letter grade is  C\n"
          ]
        }
      ]
    },
    {
      "cell_type": "code",
      "source": [],
      "metadata": {
        "id": "lVOg1fNPw4PA"
      },
      "execution_count": null,
      "outputs": []
    },
    {
      "cell_type": "code",
      "source": [
        "score = 80\n",
        "if score >= 90:\n",
        " letter_grade = 'A'\n",
        "elif score >= 80:\n",
        " letter_grade = 'B'\n",
        "elif score >= 70:\n",
        "  letter_grade = 'C'\n",
        "elif score >= 60:\n",
        "  letter_grade = 'D'\n",
        "else:\n",
        "   letter_grade = 'F'\n",
        "\n",
        "print(\"letter grade:\", letter_grade)"
      ],
      "metadata": {
        "colab": {
          "base_uri": "https://localhost:8080/"
        },
        "id": "rhK7XVyEw4Ww",
        "outputId": "cd6c6bc2-961f-4ee1-f78f-0b7db72d2dd6"
      },
      "execution_count": null,
      "outputs": [
        {
          "output_type": "stream",
          "name": "stdout",
          "text": [
            "letter grade: B\n"
          ]
        }
      ]
    },
    {
      "cell_type": "code",
      "source": [],
      "metadata": {
        "id": "uP2rE60Mw4hu"
      },
      "execution_count": null,
      "outputs": []
    },
    {
      "cell_type": "code",
      "source": [
        "num = float( input())"
      ],
      "metadata": {
        "colab": {
          "base_uri": "https://localhost:8080/"
        },
        "id": "ZYKShbCBw4pm",
        "outputId": "4a6fd6a5-d03d-44ab-efe4-9678905715b7"
      },
      "execution_count": null,
      "outputs": [
        {
          "name": "stdout",
          "output_type": "stream",
          "text": [
            "99\n"
          ]
        }
      ]
    },
    {
      "cell_type": "code",
      "source": [
        "num"
      ],
      "metadata": {
        "colab": {
          "base_uri": "https://localhost:8080/"
        },
        "id": "dLDA6vaUw4wj",
        "outputId": "6abfeffd-b3c7-42db-df87-6addd4a200bc"
      },
      "execution_count": null,
      "outputs": [
        {
          "output_type": "execute_result",
          "data": {
            "text/plain": [
              "99.0"
            ]
          },
          "metadata": {},
          "execution_count": 41
        }
      ]
    },
    {
      "cell_type": "code",
      "source": [
        "type(num)"
      ],
      "metadata": {
        "colab": {
          "base_uri": "https://localhost:8080/"
        },
        "id": "WY-OT7XNw44D",
        "outputId": "a8289152-fce6-4ea9-e461-12021042ffab"
      },
      "execution_count": null,
      "outputs": [
        {
          "output_type": "execute_result",
          "data": {
            "text/plain": [
              "int"
            ]
          },
          "metadata": {},
          "execution_count": 39
        }
      ]
    },
    {
      "cell_type": "code",
      "source": [
        "num = float(input(\"please enter a number: \"))\n",
        "if num > 0:\n",
        "  print(\"you have entered a positve number\")\n",
        "elif num < 0:\n",
        "  print(\"you have entered a negative number\")\n",
        "else:\n",
        "  print(\"you have entered a zero number\")"
      ],
      "metadata": {
        "colab": {
          "base_uri": "https://localhost:8080/"
        },
        "id": "rLJcNiDOw4_J",
        "outputId": "05b44a29-ca27-479a-c0ec-3688b8ec232d"
      },
      "execution_count": null,
      "outputs": [
        {
          "output_type": "stream",
          "name": "stdout",
          "text": [
            "please enter a number: 10\n",
            "you have entered a positve number\n"
          ]
        }
      ]
    },
    {
      "cell_type": "code",
      "source": [
        "letter = \"my name is {} and i am from {}\"\n",
        "country = \"bangladesh\"\n",
        "name = \"ashraful hossain\"\n",
        "print(letter.format(name, country))"
      ],
      "metadata": {
        "id": "akyL8w0bw5HA",
        "colab": {
          "base_uri": "https://localhost:8080/"
        },
        "outputId": "9dd3701a-cee4-4602-8827-765a4b10f37d"
      },
      "execution_count": null,
      "outputs": [
        {
          "output_type": "stream",
          "name": "stdout",
          "text": [
            "my name is ashraful hossain and i am from bangladesh\n"
          ]
        }
      ]
    },
    {
      "cell_type": "code",
      "source": [
        "uv = \"i am courrently study at {}. are you {}? ok thanku. i am from {}. my fabourite hobby{}\"\n",
        "versity = \"Bgc Trust University\"\n",
        "good = \"fine\"\n",
        "country = \"Chattogram\"\n",
        "hobbies = \"Cricket\"\n",
        "\n",
        "print(f\"i am courrently study at {versity}. are you {good}? ok thanku. i am from {country}. my fabourite hobby{cricket}\")"
      ],
      "metadata": {
        "id": "i_5qNGyfW0Wp"
      },
      "execution_count": null,
      "outputs": []
    },
    {
      "cell_type": "code",
      "source": [],
      "metadata": {
        "id": "3CQvW1KKW0b-"
      },
      "execution_count": null,
      "outputs": []
    },
    {
      "cell_type": "code",
      "source": [
        "score = float(input(\"Enter The Value: \"))\n",
        "if score > 0:\n",
        "  print(\"This is a Possitive number\")\n",
        "elif score < 0:\n",
        "  print(\"This is negative number\")\n",
        "else:\n",
        "  print(\"This is zero nuber\")"
      ],
      "metadata": {
        "id": "4XqBzWmMW0hW",
        "colab": {
          "base_uri": "https://localhost:8080/"
        },
        "outputId": "8067b138-7b48-455c-e5bf-dac072673697"
      },
      "execution_count": null,
      "outputs": [
        {
          "output_type": "stream",
          "name": "stdout",
          "text": [
            "Enter The Value: 0\n",
            "This is zero nuber\n"
          ]
        }
      ]
    },
    {
      "cell_type": "code",
      "source": [],
      "metadata": {
        "id": "v-qAlMfDM6-s"
      },
      "execution_count": null,
      "outputs": []
    },
    {
      "cell_type": "code",
      "source": [],
      "metadata": {
        "id": "gxjyJMs1W0mw"
      },
      "execution_count": null,
      "outputs": []
    },
    {
      "cell_type": "code",
      "source": [],
      "metadata": {
        "id": "qUpjVsfTW0rY"
      },
      "execution_count": null,
      "outputs": []
    },
    {
      "cell_type": "code",
      "source": [],
      "metadata": {
        "id": "glIxpZeDW0wq"
      },
      "execution_count": null,
      "outputs": []
    },
    {
      "cell_type": "code",
      "source": [],
      "metadata": {
        "id": "l7jDxGZdW032"
      },
      "execution_count": null,
      "outputs": []
    },
    {
      "cell_type": "code",
      "source": [],
      "metadata": {
        "id": "s1Pa2GLToQEa"
      },
      "execution_count": null,
      "outputs": []
    }
  ]
}